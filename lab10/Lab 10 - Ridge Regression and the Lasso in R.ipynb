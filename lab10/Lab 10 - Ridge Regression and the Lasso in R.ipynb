{
 "cells": [
  {
   "cell_type": "markdown",
   "metadata": {},
   "source": [
    "This lab on Ridge Regression and the Lasso in R comes from p. 251-255 of \"Introduction to Statistical Learning with Applications in R\" by Gareth James, Daniela Witten, Trevor Hastie and Robert Tibshirani.\n",
    "\n",
    "# 6.6: Ridge Regression and the Lasso"
   ]
  },
  {
   "cell_type": "code",
   "execution_count": null,
   "metadata": {
    "collapsed": false
   },
   "outputs": [],
   "source": [
    "library(ISLR)\n",
    "library(glmnet)"
   ]
  },
  {
   "cell_type": "markdown",
   "metadata": {},
   "source": [
    "We will use the ${\\tt glmnet}$ package in order to perform ridge regression and\n",
    "the lasso. The main function in this package is ${\\tt glmnet()}$, which can be used\n",
    "to fit ridge regression models, lasso models, and more. This function has\n",
    "slightly different syntax from other model-fitting functions that we have\n",
    "encountered thus far in this book. In particular, we must pass in an $x$\n",
    "matrix as well as a $y$ vector, and we do not use the ${\\tt y \\sim x}$ syntax.\n",
    "\n",
    "Before proceeding, let's first ensure that the missing values have\n",
    "been removed from the data, as described in the previous lab."
   ]
  },
  {
   "cell_type": "code",
   "execution_count": null,
   "metadata": {
    "collapsed": true
   },
   "outputs": [],
   "source": [
    "Hitters=na.omit(Hitters)"
   ]
  },
  {
   "cell_type": "markdown",
   "metadata": {},
   "source": [
    "We will now perform ridge regression and the lasso in order to predict ${\\tt Salary}$ on\n",
    "the ${\\tt Hitters}$ data. Let's set up our data:"
   ]
  },
  {
   "cell_type": "code",
   "execution_count": null,
   "metadata": {
    "collapsed": true
   },
   "outputs": [],
   "source": [
    "x=model.matrix(Salary~.,Hitters)[,-1]\n",
    "y=Hitters$Salary"
   ]
  },
  {
   "cell_type": "markdown",
   "metadata": {},
   "source": [
    "The ${\\tt model.matrix()}$ function is particularly useful for creating $x$; not only\n",
    "does it produce a matrix corresponding to the 19 predictors but it also\n",
    "automatically transforms any qualitative variables into dummy variables.\n",
    "The latter property is important because ${\\tt glmnet()}$ can only take numerical,\n",
    "quantitative inputs.\n",
    "\n",
    "# 6.6.1 Ridge Regression\n",
    "The ${\\tt glmnet()}$ function has an alpha argument that determines what type\n",
    "of model is fit. If ${\\tt alpha=0}$ then a ridge regression model is fit, and if ${\\tt alpha=1}$\n",
    "then a lasso model is fit. We first fit a ridge regression model:"
   ]
  },
  {
   "cell_type": "code",
   "execution_count": null,
   "metadata": {
    "collapsed": false
   },
   "outputs": [],
   "source": [
    "grid=10^seq(10,-2,length=100)\n",
    "ridge.mod=glmnet(x,y,alpha=0,lambda=grid)"
   ]
  },
  {
   "cell_type": "markdown",
   "metadata": {},
   "source": [
    "By default the ${\\tt glmnet()}$ function performs ridge regression for an automatically\n",
    "selected range of $\\lambda$ values. However, here we have chosen to implement\n",
    "the function over a grid of values ranging from $\\lambda = 10^10$ to $\\lambda = 10^{-2}$, essentially\n",
    "covering the full range of scenarios from the null model containing\n",
    "only the intercept, to the least squares fit. As we will see, we can also compute\n",
    "model fits for a particular value of $\\lambda$ that is not one of the original\n",
    "grid values. Note that by default, the ${\\tt glmnet()}$ function standardizes the\n",
    "variables so that they are on the same scale. To turn off this default setting,\n",
    "use the argument ${\\tt standardize=FALSE}$.\n",
    "\n",
    "Associated with each value of $\\lambda$ is a vector of ridge regression coefficients,\n",
    "stored in a matrix that can be accessed by ${\\tt coef()}$. In this case, it is a $20 \\times 100$\n",
    "matrix, with 20 rows (one for each predictor, plus an intercept) and 100\n",
    "columns (one for each value of $\\lambda$)."
   ]
  },
  {
   "cell_type": "code",
   "execution_count": null,
   "metadata": {
    "collapsed": false
   },
   "outputs": [],
   "source": [
    "dim(coef(ridge.mod))"
   ]
  },
  {
   "cell_type": "markdown",
   "metadata": {},
   "source": [
    "We expect the coefficient estimates to be much smaller, in terms of $l_2$ norm,\n",
    "when a large value of $\\lambda$ is used, as compared to when a small value of $\\lambda$ is\n",
    "used. These are the coefficients when $\\lambda = 11498$, along with their $l_2$ norm:"
   ]
  },
  {
   "cell_type": "code",
   "execution_count": null,
   "metadata": {
    "collapsed": false
   },
   "outputs": [],
   "source": [
    "ridge.mod$lambda[50] #Display 50th lambda value\n",
    "coef(ridge.mod)[,50] # Display coefficients associated with 50th lambda value\n",
    "sqrt(sum(coef(ridge.mod)[-1,50]^2)) # Calculate l2 norm"
   ]
  },
  {
   "cell_type": "markdown",
   "metadata": {},
   "source": [
    "In contrast, here are the coefficients when $\\lambda = 705$, along with their $l_2$\n",
    "norm. Note the much larger $l_2$ norm of the coefficients associated with this\n",
    "smaller value of $\\lambda$."
   ]
  },
  {
   "cell_type": "code",
   "execution_count": null,
   "metadata": {
    "collapsed": false
   },
   "outputs": [],
   "source": [
    "ridge.mod$lambda[60] #Display 60th lambda value\n",
    "coef(ridge.mod)[,60] # Display coefficients associated with 60th lambda value\n",
    "sqrt(sum(coef(ridge.mod)[-1,60]^2)) # Calculate l2 norm"
   ]
  },
  {
   "cell_type": "markdown",
   "metadata": {},
   "source": [
    "We can use the ${\\tt predict()}$ function for a number of purposes. For instance,\n",
    "we can obtain the ridge regression coefficients for a new value of $\\lambda$, say 50:"
   ]
  },
  {
   "cell_type": "code",
   "execution_count": null,
   "metadata": {
    "collapsed": false
   },
   "outputs": [],
   "source": [
    "predict(ridge.mod,s=50,type=\"coefficients\")[1:20,]"
   ]
  },
  {
   "cell_type": "markdown",
   "metadata": {},
   "source": [
    "We now split the samples into a training set and a test set in order\n",
    "to estimate the test error of ridge regression and the lasso. There are two\n",
    "common ways to randomly split a data set:\n",
    " - The first is to produce a random vector of ${\\tt TRUE, FALSE}$ elements and select the observations corresponding to ${\\tt TRUE}$ for the training data. \n",
    " - The second is to randomly choose a subset of\n",
    "numbers between $1$ and $n$; these can then be used as the indices for the\n",
    "training observations. \n",
    "The two approaches work equally well. We used the\n",
    "former method in the previous lab. Here we demonstrate the latter approach.\n",
    "We first set a random seed so that the results obtained will be reproducible."
   ]
  },
  {
   "cell_type": "code",
   "execution_count": null,
   "metadata": {
    "collapsed": true
   },
   "outputs": [],
   "source": [
    "set.seed(1)\n",
    "train=sample(1:nrow(x), nrow(x)/2)\n",
    "test=(-train)\n",
    "y.test=y[test]"
   ]
  },
  {
   "cell_type": "markdown",
   "metadata": {},
   "source": [
    "Next we fit a ridge regression model on the training set, and evaluate\n",
    "its MSE on the test set, using $\\lambda = 4$. Note the use of the ${\\tt predict()}$\n",
    "function again: this time we get predictions for a test set, by replacing\n",
    "${\\tt type=\"coefficients\"}$ with the ${\\tt newx}$ argument."
   ]
  },
  {
   "cell_type": "code",
   "execution_count": null,
   "metadata": {
    "collapsed": false
   },
   "outputs": [],
   "source": [
    "ridge.mod=glmnet(x[train,],y[train],alpha=0,lambda=grid, thresh=1e-12)\n",
    "ridge.pred=predict(ridge.mod,s=4,newx=x[test,])\n",
    "mean((ridge.pred-y.test)^2)"
   ]
  },
  {
   "cell_type": "markdown",
   "metadata": {},
   "source": [
    "The test MSE is 101037. Note that if we had instead simply fit a model\n",
    "with just an intercept, we would have predicted each test observation using\n",
    "the mean of the training observations. In that case, we could compute the\n",
    "test set MSE like this:"
   ]
  },
  {
   "cell_type": "code",
   "execution_count": null,
   "metadata": {
    "collapsed": false
   },
   "outputs": [],
   "source": [
    "mean((mean(y[train])-y.test)^2)"
   ]
  },
  {
   "cell_type": "markdown",
   "metadata": {},
   "source": [
    "We could also get the same result by fitting a ridge regression model with\n",
    "a very large value of $\\lambda$. Note that ${\\tt 1e10}$ means $10^{10}$."
   ]
  },
  {
   "cell_type": "code",
   "execution_count": null,
   "metadata": {
    "collapsed": false
   },
   "outputs": [],
   "source": [
    "ridge.pred=predict(ridge.mod,s=1e10,newx=x[test,])\n",
    "mean((ridge.pred-y.test)^2)"
   ]
  },
  {
   "cell_type": "markdown",
   "metadata": {},
   "source": [
    "So fitting a ridge regression model with $\\lambda = 4$ leads to a much lower test\n",
    "MSE than fitting a model with just an intercept. We now check whether\n",
    "there is any benefit to performing ridge regression with $\\lambda = 4$ instead of\n",
    "just performing least squares regression. Recall that least squares is simply\n",
    "ridge regression with $\\lambda = 0$.\n",
    "\n",
    "\\* Note: In order for ${\\tt glmnet()}$ to yield the **exact** least squares coefficients when $\\lambda = 0$,\n",
    "we use the argument ${\\tt exact=T}$ when calling the ${\\tt predict()}$ function. Otherwise, the\n",
    "${\\tt predict()}$ function will interpolate over the grid of $\\lambda$ values used in fitting the\n",
    "${\\tt glmnet()}$ model, yielding approximate results. Even when we use ${\\tt exact=T}$, there remains\n",
    "a slight discrepancy in the third decimal place between the output of ${\\tt glmnet()}$ when\n",
    "$\\lambda = 0$ and the output of ${\\tt lm()}$; this is due to numerical approximation on the part of\n",
    "${\\tt glmnet()}$."
   ]
  },
  {
   "cell_type": "code",
   "execution_count": null,
   "metadata": {
    "collapsed": false
   },
   "outputs": [],
   "source": [
    "ridge.pred=predict(ridge.mod,s=0,newx=x[test,],exact=T)\n",
    "mean((ridge.pred-y.test)^2)\n",
    "lm(y~x, subset=train)\n",
    "predict(ridge.mod,s=0,exact=T,type=\"coefficients\")[1:20,]"
   ]
  },
  {
   "cell_type": "markdown",
   "metadata": {},
   "source": [
    "It looks like we are indeed improving over regular least-squares! Side note: in general, if we want to fit a (unpenalized) least squares model, then\n",
    "we should use the ${\\tt lm()}$ function, since that function provides more useful\n",
    "outputs, such as standard errors and $p$-values for the coefficients.\n",
    "\n",
    "Instead of arbitrarily choosing $\\lambda = 4$, it would be better to\n",
    "use cross-validation to choose the tuning parameter $\\lambda$. We can do this using\n",
    "the built-in cross-validation function, ${\\tt cv.glmnet()}$. By default, the function\n",
    "performs 10-fold cross-validation, though this can be changed using the\n",
    "argument ${\\tt folds}$. Note that we set a random seed first so our results will be\n",
    "reproducible, since the choice of the cross-validation folds is random."
   ]
  },
  {
   "cell_type": "code",
   "execution_count": null,
   "metadata": {
    "collapsed": false
   },
   "outputs": [],
   "source": [
    "set.seed(1)\n",
    "cv.out=cv.glmnet(x[train,],y[train],alpha=0)          # Fit ridge regression model on training data\n",
    "plot(cv.out)                                          # Draw plot of training MSE as a function of lambda\n",
    "bestlam=cv.out$lambda.min                             # Select lamda that minimizes training MSE"
   ]
  },
  {
   "cell_type": "markdown",
   "metadata": {},
   "source": [
    "Therefore, we see that the value of $\\lambda$ that results in the smallest cross-validation\n",
    "error is 212. What is the test MSE associated with this value of\n",
    "$\\lambda$?"
   ]
  },
  {
   "cell_type": "code",
   "execution_count": null,
   "metadata": {
    "collapsed": false
   },
   "outputs": [],
   "source": [
    "ridge.pred=predict(ridge.mod,s=bestlam,newx=x[test,]) # Use best lambda to predict test data\n",
    "mean((ridge.pred-y.test)^2)                           # Calculate test MSE"
   ]
  },
  {
   "cell_type": "markdown",
   "metadata": {},
   "source": [
    "This represents a further improvement over the test MSE that we got using\n",
    "$\\lambda = 4$. Finally, we refit our ridge regression model on the full data set,\n",
    "using the value of $\\lambda$ chosen by cross-validation, and examine the coefficient\n",
    "estimates."
   ]
  },
  {
   "cell_type": "code",
   "execution_count": null,
   "metadata": {
    "collapsed": false
   },
   "outputs": [],
   "source": [
    "out=glmnet(x,y,alpha=0)                           # Fit ridge regression model on full dataset\n",
    "predict(out,type=\"coefficients\",s=bestlam)[1:20,] # Display coefficients using lambda chosen by CV"
   ]
  },
  {
   "cell_type": "markdown",
   "metadata": {},
   "source": [
    "As expected, none of the coefficients are exactly zero - ridge regression does not\n",
    "perform variable selection!\n",
    "\n",
    "# 6.6.2 The Lasso\n",
    "We saw that ridge regression with a wise choice of $\\lambda$ can outperform least\n",
    "squares as well as the null model on the Hitters data set. We now ask\n",
    "whether the lasso can yield either a more accurate or a more interpretable\n",
    "model than ridge regression. In order to fit a lasso model, we once again\n",
    "use the ${\\tt glmnet()}$ function; however, this time we use the argument ${\\tt alpha=1}$.\n",
    "Other than that change, we proceed just as we did in fitting a ridge model:"
   ]
  },
  {
   "cell_type": "code",
   "execution_count": null,
   "metadata": {
    "collapsed": false
   },
   "outputs": [],
   "source": [
    "lasso.mod=glmnet(x[train,],y[train],alpha=1,lambda=grid) # Fit lasso model on training data\n",
    "plot(lasso.mod)                                          # Draw plot of coefficients"
   ]
  },
  {
   "cell_type": "markdown",
   "metadata": {},
   "source": [
    "Notice that in the coefficient plot that depending on the choice of tuning\n",
    "parameter, some of the coefficients are exactly equal to zero. We now\n",
    "perform cross-validation and compute the associated test error:"
   ]
  },
  {
   "cell_type": "code",
   "execution_count": null,
   "metadata": {
    "collapsed": false
   },
   "outputs": [],
   "source": [
    "set.seed(1)\n",
    "cv.out=cv.glmnet(x[train,],y[train],alpha=1)          # Fit lasso model on training data\n",
    "plot(cv.out)                                          # Draw plot of training MSE as a function of lambda\n",
    "bestlam=cv.out$lambda.min                             # Select lamda that minimizes training MSE\n",
    "lasso.pred=predict(lasso.mod,s=bestlam,newx=x[test,]) # Use best lambda to predict test data\n",
    "mean((lasso.pred-y.test)^2)                           # Calculate test MSE"
   ]
  },
  {
   "cell_type": "markdown",
   "metadata": {},
   "source": [
    "This is substantially lower than the test set MSE of the null model and of\n",
    "least squares, and very similar to the test MSE of ridge regression with $\\lambda$\n",
    "chosen by cross-validation.\n",
    "\n",
    "However, the lasso has a substantial advantage over ridge regression in\n",
    "that the resulting coefficient estimates are sparse. Here we see that 12 of\n",
    "the 19 coefficient estimates are exactly zero:"
   ]
  },
  {
   "cell_type": "code",
   "execution_count": null,
   "metadata": {
    "collapsed": false
   },
   "outputs": [],
   "source": [
    "out=glmnet(x,y,alpha=1,lambda=grid)                          # Fit lasso model on full dataset\n",
    "lasso.coef=predict(out,type=\"coefficients\",s=bestlam)[1:20,] # Display coefficients using lambda chosen by CV\n",
    "lasso.coef"
   ]
  },
  {
   "cell_type": "markdown",
   "metadata": {},
   "source": [
    "Selecting only the predictors with non-zero coefficients, we see that the lasso model with $\\lambda$\n",
    "chosen by cross-validation contains only seven variables:"
   ]
  },
  {
   "cell_type": "code",
   "execution_count": null,
   "metadata": {
    "collapsed": false
   },
   "outputs": [],
   "source": [
    "lasso.coef[lasso.coef!=0]                                    # Display only non-zero coefficients"
   ]
  },
  {
   "cell_type": "markdown",
   "metadata": {},
   "source": [
    "To get credit for this lab, post your responses to the following questions:\n",
    " - How do ridge regression and the lasso improve on simple least squares?\n",
    " - In what cases would you expect ridge regression outperform the lasso, and vice versa?\n",
    " - What was the most confusing part of today's class?\n",
    " \n",
    "to Piazza: https://piazza.com/class/igwiv4w3ctb6rg?cid=38"
   ]
  }
 ],
 "metadata": {
  "kernelspec": {
   "display_name": "R",
   "language": "R",
   "name": "ir"
  },
  "language_info": {
   "codemirror_mode": "r",
   "file_extension": ".r",
   "mimetype": "text/x-r-source",
   "name": "R",
   "pygments_lexer": "r",
   "version": "3.2.2"
  }
 },
 "nbformat": 4,
 "nbformat_minor": 0
}
