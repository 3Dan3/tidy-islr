{
 "cells": [
  {
   "cell_type": "markdown",
   "metadata": {},
   "source": [
    "This lab on Support Vector Machines in R is an abbreviated version of p. 359-366 of \"Introduction to Statistical\n",
    "Learning with Applications in R\" by Gareth James, Daniela Witten, Trevor Hastie and Robert Tibshirani.\n",
    "\n",
    "# 9.6 Lab: Support Vector Machines\n",
    "\n",
    "In this lab, we'll use the ${\\tt e1071}$ library in ${\\tt R}$ to demonstrate the support vector classifier\n",
    "and the SVM. Another option is the ${\\tt LiblineaR}$ library, which is particularly useful for\n",
    "very large linear problems.\n",
    "\n",
    "# 9.6.1 Support Vector Classifier\n",
    "The ${\\tt e1071}$ library contains implementations for a number of statistical\n",
    "learning methods. In particular, the ${\\tt svm()}$ function can be used to fit a\n",
    "support vector classifier when the argument ${\\tt kernel=\"linear\"}$ is used. This\n",
    "function uses a slightly different formulation of the equations we saw in lecture to build the\n",
    "support vector classifier. A ${\\tt cost}$ argument allows us to specify the cost of\n",
    "a violation to the margin. When the ${\\tt cost}$ argument is **small**, then the margins\n",
    "will be wide and many support vectors will be on the margin or will\n",
    "violate the margin. When the ${\\tt cost}$ argument is large, then the margins will\n",
    "be narrow and there will be few support vectors on the margin or violating\n",
    "the margin.\n",
    "\n",
    "We can use the ${\\tt svm()}$ function to fit the support vector classifier for a\n",
    "given value of the ${\\tt cost}$ parameter. Here we demonstrate the use of this\n",
    "function on a two-dimensional example so that we can plot the resulting\n",
    "decision boundary. Let's start by generating a set of observations, which belong\n",
    "to two classes:"
   ]
  },
  {
   "cell_type": "code",
   "execution_count": null,
   "metadata": {
    "collapsed": true
   },
   "outputs": [],
   "source": [
    "set.seed(1)\n",
    "x=matrix(rnorm(20*2), ncol=2)\n",
    "y=c(rep(-1,10), rep(1,10))\n",
    "x[y==1,]=x[y==1,] + 1"
   ]
  },
  {
   "cell_type": "markdown",
   "metadata": {},
   "source": [
    "Let's plot the data to see whether the classes are linearly separable:"
   ]
  },
  {
   "cell_type": "code",
   "execution_count": null,
   "metadata": {
    "collapsed": false
   },
   "outputs": [],
   "source": [
    "plot(x, col=(3-y))"
   ]
  },
  {
   "cell_type": "markdown",
   "metadata": {},
   "source": [
    "Nope; not linear. Next, we fit the support vector classifier. Note that in order\n",
    "for the ${\\tt svm()}$ function to perform **classification** (as opposed to SVM-based\n",
    "regression), we must encode the response as a **factor**:"
   ]
  },
  {
   "cell_type": "code",
   "execution_count": null,
   "metadata": {
    "collapsed": true
   },
   "outputs": [],
   "source": [
    "dat=data.frame(x=x, y=as.factor(y))\n",
    "library(e1071)\n",
    "svmfit=svm(y~., data=dat, kernel=\"linear\", cost=10, scale=FALSE)"
   ]
  },
  {
   "cell_type": "markdown",
   "metadata": {},
   "source": [
    "The argument ${\\tt scale=FALSE}$ tells the ${\\tt svm()}$ function not to scale each feature\n",
    "to have mean zero or standard deviation one; depending on the application,\n",
    "we might prefer to use ${\\tt scale=TRUE}$. We can now plot the support vector classifier by calling the ${\\tt plot()}$ function on the output of the call to ${\\tt svm()}$, as well as the data used in the call to ${\\tt svm()}$:"
   ]
  },
  {
   "cell_type": "code",
   "execution_count": null,
   "metadata": {
    "collapsed": false
   },
   "outputs": [],
   "source": [
    "plot(svmfit, dat)"
   ]
  },
  {
   "cell_type": "markdown",
   "metadata": {},
   "source": [
    "The region of feature space that will be assigned to the −1 class is shown in\n",
    "light blue, and the region that will be assigned to the +1 class is shown in\n",
    "purple. The decision boundary between the two classes is linear (because we\n",
    "used the argument ${\\tt kernel=\"linear\"}$), though due to the way in which the\n",
    "plotting function is implemented in this library the decision boundary looks\n",
    "somewhat jagged in the plot. We see that in this case only one observation\n",
    "is misclassified. (Note also that the second feature is plotted on the x-axis\n",
    "and the first feature is plotted on the y-axis, in contrast to the behavior of\n",
    "the usual ${\\tt plot()}$ function in ${\\tt R}$.) \n",
    "\n",
    "The support vectors are plotted as crosses\n",
    "and the remaining observations are plotted as circles; we see here that there\n",
    "are seven support vectors. We can determine their identities as follows:"
   ]
  },
  {
   "cell_type": "code",
   "execution_count": null,
   "metadata": {
    "collapsed": false
   },
   "outputs": [],
   "source": [
    "svmfit$index"
   ]
  },
  {
   "cell_type": "markdown",
   "metadata": {},
   "source": [
    "We can obtain some basic information about the support vector classifier\n",
    "fit using the ${\\tt summary()}$ command:"
   ]
  },
  {
   "cell_type": "code",
   "execution_count": null,
   "metadata": {
    "collapsed": false
   },
   "outputs": [],
   "source": [
    "summary(svmfit)"
   ]
  },
  {
   "cell_type": "markdown",
   "metadata": {},
   "source": [
    "This tells us, for instance, that a linear kernel was used with ${\\tt cost=10}$, and\n",
    "that there were seven support vectors, four in one class and three in the\n",
    "other. What if we instead used a smaller value of the ${\\tt cost}$ parameter?"
   ]
  },
  {
   "cell_type": "code",
   "execution_count": null,
   "metadata": {
    "collapsed": false
   },
   "outputs": [],
   "source": [
    "svmfit=svm(y~., data=dat, kernel=\"linear\", cost=0.1, scale=FALSE)\n",
    "plot(svmfit, dat)\n",
    "svmfit$index"
   ]
  },
  {
   "cell_type": "markdown",
   "metadata": {},
   "source": [
    "Now that a smaller value of the ${\\tt cost}$ parameter is being used, we obtain a\n",
    "larger number of support vectors, because the margin is now **wider**. Unfortunately,\n",
    "the ${\\tt svm()}$ function does not explicitly output the coefficients of\n",
    "the linear decision boundary obtained when the support vector classifier is\n",
    "fit, nor does it output the width of the margin.\n",
    "\n",
    "The ${\\tt e1071}$ library includes a built-in function, ${\\tt tune()}$, to perform cross-validation. By default, ${\\tt tune()}$ performs **ten-fold cross-validation** on a set\n",
    "of models of interest. In order to use this function, we pass in relevant\n",
    "information about the set of models that are under consideration. The\n",
    "following command indicates that we want to compare SVMs with a linear\n",
    "kernel, using a range of values of the cost parameter:"
   ]
  },
  {
   "cell_type": "code",
   "execution_count": null,
   "metadata": {
    "collapsed": true
   },
   "outputs": [],
   "source": [
    "set.seed(1)\n",
    "tune.out=tune(svm,y~.,data=dat,kernel=\"linear\",ranges=list(cost=c(0.001, 0.01, 0.1, 1,5,10,100)))"
   ]
  },
  {
   "cell_type": "markdown",
   "metadata": {},
   "source": [
    "We can easily access the cross-validation errors for each of these models\n",
    "using the ${\\tt summary()}$ command:"
   ]
  },
  {
   "cell_type": "code",
   "execution_count": null,
   "metadata": {
    "collapsed": false
   },
   "outputs": [],
   "source": [
    "summary(tune.out)"
   ]
  },
  {
   "cell_type": "markdown",
   "metadata": {},
   "source": [
    "The ${\\tt tune()}$ function stores the best model obtained, which can be accessed as\n",
    "follows:"
   ]
  },
  {
   "cell_type": "code",
   "execution_count": null,
   "metadata": {
    "collapsed": false
   },
   "outputs": [],
   "source": [
    "bestmod=tune.out$best.model\n",
    "summary(bestmod)"
   ]
  },
  {
   "cell_type": "markdown",
   "metadata": {},
   "source": [
    "As usual, the ${\\tt predict()}$ function can be used to predict the class label on a set of\n",
    "test observations, at any given value of the cost parameter. Let's\n",
    "generate a test data set:"
   ]
  },
  {
   "cell_type": "code",
   "execution_count": null,
   "metadata": {
    "collapsed": true
   },
   "outputs": [],
   "source": [
    "xtest=matrix(rnorm(20*2), ncol=2)\n",
    "ytest=sample(c(-1,1), 20, rep=TRUE)\n",
    "xtest[ytest==1,]=xtest[ytest==1,] + 1\n",
    "testdat=data.frame(x=xtest, y=as.factor(ytest))"
   ]
  },
  {
   "cell_type": "markdown",
   "metadata": {},
   "source": [
    "Now we predict the class labels of these test observations. Here we use the\n",
    "best model obtained through cross-validation in order to make predictions:"
   ]
  },
  {
   "cell_type": "code",
   "execution_count": null,
   "metadata": {
    "collapsed": false
   },
   "outputs": [],
   "source": [
    "ypred=predict(bestmod,testdat)\n",
    "table(predict=ypred, truth=testdat$y)"
   ]
  },
  {
   "cell_type": "markdown",
   "metadata": {},
   "source": [
    "Thus, with this value of ${\\tt cost}$, 19 of the test observations are correctly\n",
    "classified. What if we had instead used ${\\tt cost=0.01}$?"
   ]
  },
  {
   "cell_type": "code",
   "execution_count": null,
   "metadata": {
    "collapsed": false
   },
   "outputs": [],
   "source": [
    "svmfit=svm(y~., data=dat, kernel=\"linear\", cost=.01,scale=FALSE)\n",
    "ypred=predict(svmfit,testdat)\n",
    "table(predict=ypred, truth=testdat$y)"
   ]
  },
  {
   "cell_type": "markdown",
   "metadata": {},
   "source": [
    "In this case one additional observation is misclassified.\n",
    "\n",
    "Now consider a situation in which the two classes are linearly separable.\n",
    "Then we can find a separating hyperplane using the ${\\tt svm()}$ function. First we'll give our simulated data a little nudge so that they are linearly separable:"
   ]
  },
  {
   "cell_type": "code",
   "execution_count": null,
   "metadata": {
    "collapsed": false
   },
   "outputs": [],
   "source": [
    "x[y==1,]=x[y==1,]+0.5\n",
    "plot(x, col=(y+5)/2, pch=19)"
   ]
  },
  {
   "cell_type": "markdown",
   "metadata": {},
   "source": [
    "Now the observations are **just barely linearly** separable. We fit the support\n",
    "vector classifier and plot the resulting hyperplane, using a very large value\n",
    "of ${\\tt cost}$ so that no observations are misclassified."
   ]
  },
  {
   "cell_type": "code",
   "execution_count": null,
   "metadata": {
    "collapsed": false
   },
   "outputs": [],
   "source": [
    "dat=data.frame(x=x,y=as.factor(y))\n",
    "svmfit=svm(y~., data=dat, kernel=\"linear\", cost=1e5)\n",
    "summary(svmfit)\n",
    "plot(svmfit, dat)"
   ]
  },
  {
   "cell_type": "markdown",
   "metadata": {},
   "source": [
    "No training errors were made and only three support vectors were used.\n",
    "However, we can see from the figure that the margin is very narrow (because\n",
    "the observations that are **not** support vectors, indicated as circles, are very close to the decision boundary). It seems likely that this model will perform\n",
    "poorly on test data. Let's try a smaller value of ${\\tt cost}$:"
   ]
  },
  {
   "cell_type": "code",
   "execution_count": null,
   "metadata": {
    "collapsed": false
   },
   "outputs": [],
   "source": [
    "svmfit=svm(y~., data=dat, kernel=\"linear\", cost=1)\n",
    "summary(svmfit)\n",
    "plot(svmfit,dat)"
   ]
  },
  {
   "cell_type": "markdown",
   "metadata": {},
   "source": [
    "Using ${\\tt cost=1}$, we misclassify a training observation, but we also obtain\n",
    "a much wider margin and make use of seven support vectors. It seems\n",
    "likely that this model will perform better on test data than the model with\n",
    "${\\tt cost=1e5}$.\n",
    "\n",
    "# 9.6.2 Support Vector Machine\n",
    "\n",
    "In order to fit an SVM using a **non-linear kernel**, we once again use the ${\\tt svm()}$\n",
    "function. However, now we use a different value of the parameter kernel.\n",
    "To fit an SVM with a polynomial kernel we use ${\\tt kernel=\"polynomial\"}$, and\n",
    "to fit an SVM with a radial kernel we use ${\\tt kernel=\"radial\"}$. In the former\n",
    "case we also use the ${\\tt degree}$ argument to specify a degree for the polynomial\n",
    "kernel, and in the latter case we use ${\\tt gamma}$ to specify a\n",
    "value of $\\gamma$ for the radial basis kernel.\n",
    "\n",
    "Let's generate some data with a non-linear class boundary:"
   ]
  },
  {
   "cell_type": "code",
   "execution_count": null,
   "metadata": {
    "collapsed": false
   },
   "outputs": [],
   "source": [
    "set.seed(1)\n",
    "x=matrix(rnorm(200*2), ncol=2)\n",
    "x[1:100,]=x[1:100,]+2\n",
    "x[101:150,]=x[101:150,]-2\n",
    "y=c(rep(1,150),rep(2,50))\n",
    "dat=data.frame(x=x,y=as.factor(y))\n",
    "plot(x, col=y)"
   ]
  },
  {
   "cell_type": "markdown",
   "metadata": {},
   "source": [
    "See how one class is kind of stuck in the middle of another class? This suggests that we might want to use a **radial kernel** in our SVM. Now let's randomly split this data into training and testing groups, and then fit\n",
    "the training data using the ${\\tt svm()}$ function with a radial kernel and $\\gamma = 1$:"
   ]
  },
  {
   "cell_type": "code",
   "execution_count": null,
   "metadata": {
    "collapsed": false
   },
   "outputs": [],
   "source": [
    "train=sample(200,100)\n",
    "svmfit=svm(y~., data=dat[train,], kernel=\"radial\",  gamma=1, cost=1)\n",
    "plot(svmfit, dat[train,])"
   ]
  },
  {
   "cell_type": "markdown",
   "metadata": {},
   "source": [
    "Not too shabby! The plot shows that the resulting SVM has a decidedly non-linear\n",
    "boundary. We can see from the figure that there are a fair number of training errors\n",
    "in this SVM fit. If we increase the value of cost, we can reduce the number\n",
    "of training errors:"
   ]
  },
  {
   "cell_type": "code",
   "execution_count": null,
   "metadata": {
    "collapsed": false
   },
   "outputs": [],
   "source": [
    "svmfit=svm(y~., data=dat[train,], kernel=\"radial\",gamma=1,cost=1e5)\n",
    "plot(svmfit,dat[train,])"
   ]
  },
  {
   "cell_type": "markdown",
   "metadata": {},
   "source": [
    "However, this comes at the price of a more irregular decision boundary that seems to be at risk of overfitting the data. We can perform cross-validation using ${\\tt tune()}$ to select the best choice of\n",
    "$\\gamma$ and cost for an SVM with a radial kernel:"
   ]
  },
  {
   "cell_type": "code",
   "execution_count": null,
   "metadata": {
    "collapsed": false
   },
   "outputs": [],
   "source": [
    "set.seed(1)\n",
    "tune.out=tune(svm, y~., data=dat[train,], kernel=\"radial\", ranges=list(cost=c(0.1,1,10,100,1000),gamma=c(0.5,1,2,3,4)))\n",
    "bestmod=tune.out$best.model\n",
    "summary(bestmod)"
   ]
  },
  {
   "cell_type": "markdown",
   "metadata": {},
   "source": [
    "Therefore, the best choice of parameters involves ${\\tt cost=1}$ and ${\\tt gamma=2}$. We\n",
    "can plot the resulting fit using the ${\\tt plot()}$ function, and view the test set predictions for this model by applying the ${\\tt predict()}$\n",
    "function to the data. Notice that to do this we subset the dataframe dat\n",
    "using ${\\tt -train}$ as an index set:"
   ]
  },
  {
   "cell_type": "code",
   "execution_count": null,
   "metadata": {
    "collapsed": false
   },
   "outputs": [],
   "source": [
    "plot(bestmod,dat[train,])\n",
    "table(true=dat[-train,\"y\"], pred=predict(tune.out$best.model,newdata=dat[-train,]))"
   ]
  },
  {
   "cell_type": "markdown",
   "metadata": {},
   "source": [
    "90% of test observations are correctly classified by this SVM. Not bad!\n",
    "\n",
    "# 9.6.3 ROC Curves\n",
    "\n",
    "The ${\\tt ROCR}$ package can be used to produce ROC curves such as those we saw in lecture. We first write a short function to plot an ROC curve\n",
    "given a vector containing a numerical score for each observation, ${\\tt pred}$, and\n",
    "a vector containing the class label for each observation, ${\\tt truth}$:"
   ]
  },
  {
   "cell_type": "code",
   "execution_count": null,
   "metadata": {
    "collapsed": false
   },
   "outputs": [],
   "source": [
    "library(ROCR)\n",
    "rocplot=function(pred, truth, ...){\n",
    "   predob = prediction(pred, truth)\n",
    "   perf = performance(predob, \"tpr\", \"fpr\")\n",
    "   plot(perf,...)}"
   ]
  },
  {
   "cell_type": "markdown",
   "metadata": {},
   "source": [
    "SVMs and support vector classifiers output class labels for each observation.\n",
    "However, it is also possible to obtain fitted values for each observation,\n",
    "which are the numerical scores used to obtain the class labels. For instance,\n",
    "in the case of a support vector classifier, the fitted value for an observation\n",
    "$X = (X_1,X_2, . . .,X_p)^T$ takes the form $\\hat\\beta_0 + \\hat\\beta_1X_1 + \\hat\\beta_2X_2 + . . . + \\hat\\beta_pX_p$.\n",
    "\n",
    "For an SVM with a non-linear kernel, the equation that yields the fitted\n",
    "value is given in (9.23) on p. 352 of the ISLR book. In essence, the sign of the fitted value determines\n",
    "on which side of the decision boundary the observation lies. Therefore, the\n",
    "relationship between the fitted value and the class prediction for a given\n",
    "observation is simple: if the fitted value exceeds zero then the observation\n",
    "is assigned to one class, and if it is less than zero than it is assigned to the\n",
    "other.\n",
    "\n",
    "In order to obtain the fitted values for a given SVM model fit, we\n",
    "use ${\\tt decision.values=TRUE}$ when fitting ${\\tt svm()}$. Then the ${\\tt predict()}$ function\n",
    "will output the fitted values. Let's fit models using the $\\gamma$ selected by cross-validation, and a higher value, which will produce a more flexible fit:"
   ]
  },
  {
   "cell_type": "code",
   "execution_count": null,
   "metadata": {
    "collapsed": true
   },
   "outputs": [],
   "source": [
    "svmfit.opt=svm(y~., data=dat[train,], kernel=\"radial\",gamma=2, cost=1,decision.values=T)\n",
    "svmfit.flex=svm(y~., data=dat[train,], kernel=\"radial\",gamma=50, cost=1,decision.values=T)"
   ]
  },
  {
   "cell_type": "markdown",
   "metadata": {},
   "source": [
    "Now we can produce the ROC plot to see how the models perform on both the training and the test data:"
   ]
  },
  {
   "cell_type": "code",
   "execution_count": null,
   "metadata": {
    "collapsed": false
   },
   "outputs": [],
   "source": [
    "par(mfrow=c(1,2))\n",
    "\n",
    "# Plot optimal parameter model's performance on training data\n",
    "fitted.opt.train=attributes(predict(svmfit.opt,dat[train,],decision.values=TRUE))$decision.values\n",
    "rocplot(fitted.opt.train,dat[train,\"y\"],main=\"Training Data\")\n",
    "\n",
    "# Add more flexible model's performance to the plot\n",
    "fitted.flex.train=attributes(predict(svmfit.flex,dat[train,],decision.values=TRUE))$decision.values\n",
    "rocplot(fitted.flex.train,dat[train,\"y\"], add=T, col=\"red\")\n",
    "\n",
    "# Plot optimal parameter model's performance on test data\n",
    "fitted.opt.test=attributes(predict(svmfit.opt,dat[-train,],decision.values=T))$decision.values\n",
    "rocplot(fitted.opt.test,dat[-train,\"y\"],main=\"Test Data\")\n",
    "\n",
    "# Add more flexible model's performance to the plot\n",
    "fitted.flex.test=attributes(predict(svmfit.flex,dat[-train,],decision.values=TRUE))$decision.values\n",
    "rocplot(fitted.flex.test,dat[-train,\"y\"], add=T, col=\"red\")"
   ]
  },
  {
   "cell_type": "markdown",
   "metadata": {},
   "source": [
    "To get credit for this lab, describe what the ROC plot is telling you about the SVM's performance on the test data and post to Piazza: https://piazza.com/class/igwiv4w3ctb6rg?cid=54"
   ]
  }
 ],
 "metadata": {
  "kernelspec": {
   "display_name": "R",
   "language": "R",
   "name": "ir"
  },
  "language_info": {
   "codemirror_mode": "r",
   "file_extension": ".r",
   "mimetype": "text/x-r-source",
   "name": "R",
   "pygments_lexer": "r",
   "version": "3.2.2"
  }
 },
 "nbformat": 4,
 "nbformat_minor": 0
}
