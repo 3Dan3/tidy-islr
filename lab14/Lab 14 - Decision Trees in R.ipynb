{
 "cells": [
  {
   "cell_type": "markdown",
   "metadata": {},
   "source": [
    "This lab on Decision Trees in R is an abbreviated version of p. 324-331 of \"Introduction to Statistical Learning with\n",
    "Applications in R\" by Gareth James, Daniela Witten, Trevor Hastie and Robert Tibshirani.\n",
    "\n",
    "# 8.3.1 Fitting Classification Trees\n",
    "\n",
    "The ${\\tt tree}$ library is useful for constructing classification and regression trees:"
   ]
  },
  {
   "cell_type": "code",
   "execution_count": null,
   "metadata": {
    "collapsed": false
   },
   "outputs": [],
   "source": [
    "library(tree)\n",
    "library(ISLR)"
   ]
  },
  {
   "cell_type": "markdown",
   "metadata": {},
   "source": [
    "We'll start by using **classification trees** to analyze the ${\\tt Carseats}$ data set. In these\n",
    "data, ${\\tt Sales}$ is a continuous variable, and so we begin by converting it to a\n",
    "binary variable. We use the ${\\tt ifelse()}$ function to create a variable, called\n",
    "${\\tt High}$, which takes on a value of ${\\tt Yes}$ if the ${\\tt Sales}$ variable exceeds 8, and\n",
    "takes on a value of ${\\tt No}$ otherwise:"
   ]
  },
  {
   "cell_type": "code",
   "execution_count": null,
   "metadata": {
    "collapsed": true
   },
   "outputs": [],
   "source": [
    "High=ifelse(Carseats$Sales<=8,\"No\",\"Yes\")"
   ]
  },
  {
   "cell_type": "markdown",
   "metadata": {},
   "source": [
    "Then we'll use the ${\\tt data.frame()}$ function to merge ${\\tt High}$ with the rest of\n",
    "the ${\\tt Carseats}$ data:"
   ]
  },
  {
   "cell_type": "code",
   "execution_count": null,
   "metadata": {
    "collapsed": false
   },
   "outputs": [],
   "source": [
    "Carseats=data.frame(Carseats,High)\n",
    "head(Carseats)"
   ]
  },
  {
   "cell_type": "markdown",
   "metadata": {},
   "source": [
    "In order to properly evaluate the performance of a classification tree on\n",
    "the data, we must estimate the test error rather than simply computing\n",
    "the training error. We first split the observations into a training set and a test\n",
    "set:"
   ]
  },
  {
   "cell_type": "code",
   "execution_count": null,
   "metadata": {
    "collapsed": true
   },
   "outputs": [],
   "source": [
    "set.seed(2)\n",
    "train=sample(1:nrow(Carseats), 200)\n",
    "Carseats.test=Carseats[-train,]\n",
    "High.test=High[-train]"
   ]
  },
  {
   "cell_type": "markdown",
   "metadata": {},
   "source": [
    "We now use the ${\\tt tree()}$ function to fit a classification tree in order to predict\n",
    "${\\tt High}$ using all variables but ${\\tt Sales}$ (that would be a little silly...). The syntax of the ${\\tt tree()}$ function is quite\n",
    "similar to that of the ${\\tt lm()}$ function:"
   ]
  },
  {
   "cell_type": "code",
   "execution_count": null,
   "metadata": {
    "collapsed": true
   },
   "outputs": [],
   "source": [
    "tree.carseats=tree(High~.-Sales,Carseats,subset=train)"
   ]
  },
  {
   "cell_type": "markdown",
   "metadata": {},
   "source": [
    "The ${\\tt summary()}$ function lists the variables that are used as internal nodes (forming decision points)\n",
    "in the tree, the number of terminal nodes, and the (training) error rate:"
   ]
  },
  {
   "cell_type": "code",
   "execution_count": null,
   "metadata": {
    "collapsed": false
   },
   "outputs": [],
   "source": [
    "summary(tree.carseats)"
   ]
  },
  {
   "cell_type": "markdown",
   "metadata": {},
   "source": [
    "We see that the training error rate is 10.5%. For classification trees, the ${\\tt deviance}$\n",
    "reported in the output of ${\\tt summary()}$ is given by:\n",
    "\n",
    "$$-2\\sum_m\\sum_k n_{mk}log\\hat{p}_{mk}$$\n",
    "\n",
    "where $n_{mk}$ is the number of observations in the $m^{th}$ terminal node that\n",
    "belong to the $k^{th}$ class. A small ${\\tt deviance}$ indicates a tree that provides\n",
    "a good fit to the (training) data. The ${\\tt residual \\ mean \\ deviance}$ reported is\n",
    "simply the ${\\tt deviance}$ divided by $n−|T_0|$.\n",
    "\n",
    "One of the most attractive properties of trees is that they can be\n",
    "graphically displayed. We use the ${\\tt plot()}$ function to display the tree structure,\n",
    "and the ${\\tt text()}$ function to display the node labels. The argument\n",
    "${\\tt pretty=0}$ instructs ${\\tt R}$ to include the category names for any qualitative predictors,\n",
    "rather than simply displaying a letter for each category:"
   ]
  },
  {
   "cell_type": "code",
   "execution_count": null,
   "metadata": {
    "collapsed": false
   },
   "outputs": [],
   "source": [
    "plot(tree.carseats)\n",
    "text(tree.carseats,pretty=0)"
   ]
  },
  {
   "cell_type": "markdown",
   "metadata": {},
   "source": [
    "The most important indicator of ${\\tt High}$ sales appears to be shelving location,\n",
    "since the first branch differentiates ${\\tt Good}$ locations from ${\\tt Bad}$ and ${\\tt Medium}$\n",
    "locations.\n",
    "\n",
    "If we just type the name of the tree object, ${\\tt R}$ prints output corresponding\n",
    "to each branch of the tree. ${\\tt R}$ displays the split criterion (e.g. ${\\tt Price}<142$), the\n",
    "number of observations in that branch, the deviance, the overall prediction\n",
    "for the branch (${\\tt Yes}$ or ${\\tt No}$), and the fraction of observations in that branch\n",
    "that take on values of ${\\tt Yes}$ and ${\\tt No}$. Branches that lead to terminal nodes are\n",
    "indicated using asterisks:"
   ]
  },
  {
   "cell_type": "code",
   "execution_count": null,
   "metadata": {
    "collapsed": false
   },
   "outputs": [],
   "source": [
    "tree.carseats"
   ]
  },
  {
   "cell_type": "markdown",
   "metadata": {},
   "source": [
    "Finally, let's evaluate the tree's performance on\n",
    "the test data. The ${\\tt predict()}$ function can be used for this purpose. In the\n",
    "case of a classification tree, the argument ${\\tt type=\"class\"}$ instructs ${\\tt R}$ to return\n",
    "the actual class prediction. This approach leads to correct predictions for\n",
    "around 71.5% of the test data set:"
   ]
  },
  {
   "cell_type": "code",
   "execution_count": null,
   "metadata": {
    "collapsed": false
   },
   "outputs": [],
   "source": [
    "tree.pred=predict(tree.carseats,Carseats.test,type=\"class\")\n",
    "table(tree.pred,High.test)\n",
    "# (86+57)/200 = 71.5%"
   ]
  },
  {
   "cell_type": "markdown",
   "metadata": {},
   "source": [
    "# Pruning\n",
    "\n",
    "Next, we consider whether **pruning** the tree might lead to improved\n",
    "results. The function ${\\tt cv.tree()}$ performs cross-validation in order to\n",
    "determine the optimal level of tree complexity; cost complexity pruning\n",
    "is used in order to select a sequence of trees for consideration. We use\n",
    "the argument ${\\tt FUN=prune.misclass}$ in order to indicate that we want the\n",
    "**classification error rate** as our cost function to guide the cross-validation and pruning process,\n",
    "rather than the default for the ${\\tt cv.tree()}$ function, which is ${\\tt deviance}$. The\n",
    "${\\tt cv.tree()}$ function reports the number of terminal nodes of each tree considered\n",
    "(size) as well as the corresponding error rate and the value of the\n",
    "cost-complexity parameter used ($k$, which corresponds to $\\alpha$ in the equation we saw in lecture)."
   ]
  },
  {
   "cell_type": "code",
   "execution_count": null,
   "metadata": {
    "collapsed": false
   },
   "outputs": [],
   "source": [
    "set.seed(3)\n",
    "cv.carseats=cv.tree(tree.carseats,FUN=prune.misclass)"
   ]
  },
  {
   "cell_type": "markdown",
   "metadata": {},
   "source": [
    "Note that, despite the name, the ${\\tt dev}$ field corresponds to the **cross-validation error\n",
    "rate** in this instance. Let's plot the error\n",
    "rate as a function of size:"
   ]
  },
  {
   "cell_type": "code",
   "execution_count": null,
   "metadata": {
    "collapsed": false
   },
   "outputs": [],
   "source": [
    "plot(cv.carseats$size,cv.carseats$dev,type=\"b\")"
   ]
  },
  {
   "cell_type": "markdown",
   "metadata": {},
   "source": [
    "We see from this plot that the tree with 9 terminal nodes results in the lowest\n",
    "cross-validation error rate, with 50 cross-validation errors. \n",
    "\n",
    "We now apply the ${\\tt prune.misclass()}$ function in order to prune the tree to\n",
    "obtain the nine-node tree by setting the parameter ${\\tt best=9}$:"
   ]
  },
  {
   "cell_type": "code",
   "execution_count": null,
   "metadata": {
    "collapsed": false
   },
   "outputs": [],
   "source": [
    "prune.carseats=prune.misclass(tree.carseats,best=9)\n",
    "plot(prune.carseats)\n",
    "text(prune.carseats,pretty=0)"
   ]
  },
  {
   "cell_type": "markdown",
   "metadata": {},
   "source": [
    "How well does this pruned tree perform on the test data set? Once again,\n",
    "we can apply the ${\\tt predict()}$ function top find out:"
   ]
  },
  {
   "cell_type": "code",
   "execution_count": null,
   "metadata": {
    "collapsed": false
   },
   "outputs": [],
   "source": [
    "tree.pred=predict(prune.carseats,Carseats.test,type=\"class\")\n",
    "table(tree.pred,High.test)"
   ]
  },
  {
   "cell_type": "markdown",
   "metadata": {},
   "source": [
    "Now $\\frac{(94+60)}{200} =$ 77% of the test observations are correctly classified, so not only has\n",
    "the pruning process produced a more interpretable tree, but it has also\n",
    "improved the classification accuracy.\n",
    "\n",
    "If we increase the value of ${\\tt best}$, we obtain a larger pruned tree..."
   ]
  },
  {
   "cell_type": "code",
   "execution_count": null,
   "metadata": {
    "collapsed": false
   },
   "outputs": [],
   "source": [
    "prune.carseats=prune.misclass(tree.carseats,best=15)\n",
    "plot(prune.carseats)\n",
    "text(prune.carseats,pretty=0)"
   ]
  },
  {
   "cell_type": "markdown",
   "metadata": {},
   "source": [
    "...with lower\n",
    "classification accuracy!"
   ]
  },
  {
   "cell_type": "code",
   "execution_count": null,
   "metadata": {
    "collapsed": false
   },
   "outputs": [],
   "source": [
    "tree.pred=predict(prune.carseats,Carseats.test,type=\"class\")\n",
    "table(tree.pred,High.test)\n",
    "# (86+62)/200 = 74%"
   ]
  },
  {
   "cell_type": "markdown",
   "metadata": {},
   "source": [
    "# 8.3.2 Fitting Regression Trees\n",
    "\n",
    "Now let's try fitting a **regression tree** to the ${\\tt Boston}$ data set from the ${\\tt MASS}$ library. First, we create a\n",
    "training set, and fit the tree to the training data using ${\\tt medv}$ (median home value) as our response:"
   ]
  },
  {
   "cell_type": "code",
   "execution_count": null,
   "metadata": {
    "collapsed": false
   },
   "outputs": [],
   "source": [
    "library(MASS)\n",
    "set.seed(1)\n",
    "train = sample(1:nrow(Boston), nrow(Boston)/2)\n",
    "tree.boston=tree(medv~.,Boston,subset=train)\n",
    "summary(tree.boston)"
   ]
  },
  {
   "cell_type": "markdown",
   "metadata": {},
   "source": [
    "Notice that the output of ${\\tt summary()}$ indicates that only three of the variables\n",
    "have been used in constructing the tree. In the context of a regression\n",
    "tree, the ${\\tt deviance}$ is simply the sum of squared errors for the tree. Let's\n",
    "plot the tree:"
   ]
  },
  {
   "cell_type": "code",
   "execution_count": null,
   "metadata": {
    "collapsed": false
   },
   "outputs": [],
   "source": [
    "plot(tree.boston)\n",
    "text(tree.boston,pretty=0)"
   ]
  },
  {
   "cell_type": "markdown",
   "metadata": {},
   "source": [
    "The variable ${\\tt lstat}$ measures the percentage of individuals with lower\n",
    "socioeconomic status. The tree indicates that lower values of ${\\tt lstat}$ correspond\n",
    "to more expensive houses. The tree predicts a median house price\n",
    "of \\$46,380 for larger homes (${\\tt rm}>=7.437$) in suburbs in which residents have high socioeconomic\n",
    "status (${\\tt lstat}<9.715$).\n",
    "\n",
    "Now we use the ${\\tt cv.tree()}$ function to see whether pruning the tree will\n",
    "improve performance:"
   ]
  },
  {
   "cell_type": "code",
   "execution_count": null,
   "metadata": {
    "collapsed": false
   },
   "outputs": [],
   "source": [
    "cv.boston=cv.tree(tree.boston)\n",
    "plot(cv.boston$size,cv.boston$dev,type='b')"
   ]
  },
  {
   "cell_type": "markdown",
   "metadata": {},
   "source": [
    "The 7-node tree is selected by cross-validation. We can prune the tree using the\n",
    "${\\tt prune.tree()}$ function as before:"
   ]
  },
  {
   "cell_type": "code",
   "execution_count": null,
   "metadata": {
    "collapsed": false
   },
   "outputs": [],
   "source": [
    "prune.boston=prune.tree(tree.boston,best=7)\n",
    "plot(prune.boston)\n",
    "text(prune.boston,pretty=0)"
   ]
  },
  {
   "cell_type": "markdown",
   "metadata": {},
   "source": [
    "Now we'll use the pruned tree to make predictions on the test set:"
   ]
  },
  {
   "cell_type": "code",
   "execution_count": null,
   "metadata": {
    "collapsed": false
   },
   "outputs": [],
   "source": [
    "yhat=predict(prune.boston,newdata=Boston[-train,])\n",
    "boston.test=Boston[-train,\"medv\"]\n",
    "plot(yhat,boston.test)\n",
    "abline(0,1)\n",
    "mean((yhat-boston.test)^2)"
   ]
  },
  {
   "cell_type": "markdown",
   "metadata": {},
   "source": [
    "In other words, the test set MSE associated with the regression tree is\n",
    "25.72. The square root of the MSE is therefore around 5.07, indicating\n",
    "that this model leads to test predictions that are within around \\$5,070 of\n",
    "the true median home value for the suburb.\n",
    "    \n",
    "# 8.3.3 Bagging and Random Forests\n",
    "\n",
    "Let's see if we can improve on this result using **bagging** and **random forests**. The exact results obtained in this section may\n",
    "depend on the version of ${\\tt R}$ and the version of the ${\\tt randomForest}$ package\n",
    "installed on your computer, so don't stress out if you don't match up exactly with the book. Recall that **bagging** is simply a special case of\n",
    "a **random forest** with $m = p$. Therefore, the ${\\tt randomForest()}$ function can\n",
    "be used to perform both random forests and bagging. Let's start with bagging:"
   ]
  },
  {
   "cell_type": "code",
   "execution_count": null,
   "metadata": {
    "collapsed": false
   },
   "outputs": [],
   "source": [
    "library(randomForest)\n",
    "set.seed(1)\n",
    "bag.boston=randomForest(medv~.,data=Boston,subset=train,mtry=13,importance=TRUE)\n",
    "bag.boston"
   ]
  },
  {
   "cell_type": "markdown",
   "metadata": {},
   "source": [
    "The argument ${\\tt mtry=13}$ indicates that all 13 predictors should be considered\n",
    "for each split of the tree -- in other words, that bagging should be done. How\n",
    "well does this bagged model perform on the test set?"
   ]
  },
  {
   "cell_type": "code",
   "execution_count": null,
   "metadata": {
    "collapsed": false
   },
   "outputs": [],
   "source": [
    "yhat.bag = predict(bag.boston,newdata=Boston[-train,])\n",
    "plot(yhat.bag, boston.test)\n",
    "abline(0,1)\n",
    "mean((yhat.bag-boston.test)^2)"
   ]
  },
  {
   "cell_type": "markdown",
   "metadata": {},
   "source": [
    "The test setMSE associated with the bagged regression tree is just over\n",
    "half that obtained using an optimally-pruned single tree! We can change\n",
    "the number of trees grown by ${\\tt randomForest()}$ using the ${\\tt ntree}$ argument:"
   ]
  },
  {
   "cell_type": "code",
   "execution_count": null,
   "metadata": {
    "collapsed": true
   },
   "outputs": [],
   "source": [
    "bag.boston=randomForest(medv~.,data=Boston,subset=train,mtry=13,ntree=25)\n",
    "yhat.bag = predict(bag.boston,newdata=Boston[-train,])\n",
    "mean((yhat.bag-boston.test)^2)"
   ]
  },
  {
   "cell_type": "markdown",
   "metadata": {},
   "source": [
    "We can grow a random forest in exactly the same way, except that\n",
    "we'll use a smaller value of the ${\\tt mtry}$ argument. By default, ${\\tt randomForest()}$\n",
    "uses $p/3$ variables when building a random forest of regression trees, and\n",
    "$\\sqrt{p}$ variables when building a random forest of classification trees. Here we'll\n",
    "use ${\\tt mtry = 6}$:"
   ]
  },
  {
   "cell_type": "code",
   "execution_count": null,
   "metadata": {
    "collapsed": false
   },
   "outputs": [],
   "source": [
    "set.seed(1)\n",
    "rf.boston=randomForest(medv~.,data=Boston,subset=train,mtry=6,importance=TRUE)\n",
    "yhat.rf = predict(rf.boston,newdata=Boston[-train,])\n",
    "mean((yhat.rf-boston.test)^2)"
   ]
  },
  {
   "cell_type": "markdown",
   "metadata": {},
   "source": [
    "The test set MSE is even lower; this indicates that random forests yielded an\n",
    "improvement over bagging in this case.\n",
    "\n",
    "Using the ${\\tt importance()}$ function, we can view the importance of each\n",
    "variable:"
   ]
  },
  {
   "cell_type": "code",
   "execution_count": null,
   "metadata": {
    "collapsed": false
   },
   "outputs": [],
   "source": [
    "importance(rf.boston)"
   ]
  },
  {
   "cell_type": "markdown",
   "metadata": {},
   "source": [
    "Two measures of variable importance are reported. The former is based\n",
    "upon the **mean decrease of accuracy in predictions** on the out-of-bag samples\n",
    "when a given variable is excluded from the model. The latter is a measure\n",
    "of the **total decrease in node impurity** that results from splits over that\n",
    "variable, averaged over all tree. In the\n",
    "case of regression trees, the node impurity is measured by the training\n",
    "RSS, and for classification trees by the deviance. Plots of these importance\n",
    "measures can be produced using the ${\\tt varImpPlot()}$ function:"
   ]
  },
  {
   "cell_type": "code",
   "execution_count": null,
   "metadata": {
    "collapsed": false
   },
   "outputs": [],
   "source": [
    "varImpPlot(rf.boston)"
   ]
  },
  {
   "cell_type": "markdown",
   "metadata": {},
   "source": [
    "The results indicate that across all of the trees considered in the random\n",
    "forest, the wealth level of the community (${\\tt lstat}$) and the house size (${\\tt rm}$)\n",
    "are by far the two most important variables."
   ]
  },
  {
   "cell_type": "markdown",
   "metadata": {},
   "source": [
    "# 8.3.4 Boosting\n",
    "\n",
    "Now we'll use the ${\\tt gbm}$ package, and within it the ${\\tt gbm()}$ function, to fit **boosted\n",
    "regression trees** to the ${\\tt Boston}$ data set. We run ${\\tt gbm()}$ with the option\n",
    "${\\tt distribution=\"gaussian\"}$ since this is a regression problem; if it were a binary\n",
    "classification problem, we would use ${\\tt distribution=\"bernoulli\"}$. The\n",
    "argument ${\\tt n.trees=5000}$ indicates that we want 5000 trees, and the option\n",
    "${\\tt interaction.depth=4}$ limits the depth of each tree:"
   ]
  },
  {
   "cell_type": "code",
   "execution_count": null,
   "metadata": {
    "collapsed": false
   },
   "outputs": [],
   "source": [
    "library(gbm)\n",
    "set.seed(1)\n",
    "boost.boston=gbm(medv~.,data=Boston[train,],distribution=\"gaussian\",n.trees=5000,interaction.depth=4)"
   ]
  },
  {
   "cell_type": "markdown",
   "metadata": {},
   "source": [
    "The ${\\tt summary()}$ function produces a relative influence plot and also outputs\n",
    "the relative influence statistics:"
   ]
  },
  {
   "cell_type": "code",
   "execution_count": null,
   "metadata": {
    "collapsed": false
   },
   "outputs": [],
   "source": [
    "summary(boost.boston)"
   ]
  },
  {
   "cell_type": "markdown",
   "metadata": {},
   "source": [
    "We see that ${\\tt lstat}$ and ${\\tt rm}$ are again the most important variables by far. We can\n",
    "also produce partial dependence plots for these two variables. These plots\n",
    "illustrate the marginal effect of the selected variables on the response after\n",
    "integrating out the other variables. In this case, as we might expect, median\n",
    "house prices are increasing with ${\\tt rm}$ and decreasing with ${\\tt lstat}$:"
   ]
  },
  {
   "cell_type": "code",
   "execution_count": null,
   "metadata": {
    "collapsed": false
   },
   "outputs": [],
   "source": [
    "par(mfrow=c(1,2))\n",
    "plot(boost.boston,i=\"rm\")\n",
    "plot(boost.boston,i=\"lstat\")"
   ]
  },
  {
   "cell_type": "markdown",
   "metadata": {},
   "source": [
    "Now let's use the boosted model to predict ${\\tt medv}$ on the test set:"
   ]
  },
  {
   "cell_type": "code",
   "execution_count": null,
   "metadata": {
    "collapsed": false
   },
   "outputs": [],
   "source": [
    "yhat.boost=predict(boost.boston, newdata=Boston[-train,], n.trees=5000)\n",
    "mean((yhat.boost-boston.test)^2)"
   ]
  },
  {
   "cell_type": "markdown",
   "metadata": {},
   "source": [
    "The test MSE obtained is similar to the test MSE for random forests\n",
    "and superior to that for bagging. If we want to, we can perform boosting\n",
    "with a different value of the shrinkage parameter $\\lambda$. The default\n",
    "value is 0.001, but this is easily modified. Here we take $\\lambda = 0.2$:"
   ]
  },
  {
   "cell_type": "code",
   "execution_count": null,
   "metadata": {
    "collapsed": false
   },
   "outputs": [],
   "source": [
    "boost.boston=gbm(medv~., data=Boston[train,], distribution=\"gaussian\", n.trees=5000, interaction.depth=4, shrinkage=0.2, verbose=F)\n",
    "yhat.boost=predict(boost.boston, newdata=Boston[-train,], n.trees=5000)\n",
    "mean((yhat.boost-boston.test)^2)"
   ]
  },
  {
   "cell_type": "markdown",
   "metadata": {},
   "source": [
    "In this case, using $\\lambda = 0.2$ leads to a slightly lower test MSE than $\\lambda = 0.001$.\n",
    "\n",
    "To get credit for this lab, post your responses to the following questions:\n",
    " - What's one real-world scenario where you might try using Bagging?\n",
    " - What's one real-world scenario where you might try using Random Forests?\n",
    " - What's one real-world scenario where you might try using Boosting?\n",
    " \n",
    "to Piazza: https://piazza.com/class/igwiv4w3ctb6rg?cid=53"
   ]
  },
  {
   "cell_type": "code",
   "execution_count": null,
   "metadata": {
    "collapsed": true
   },
   "outputs": [],
   "source": []
  }
 ],
 "metadata": {
  "kernelspec": {
   "display_name": "R",
   "language": "R",
   "name": "ir"
  },
  "language_info": {
   "codemirror_mode": "r",
   "file_extension": ".r",
   "mimetype": "text/x-r-source",
   "name": "R",
   "pygments_lexer": "r",
   "version": "3.2.2"
  }
 },
 "nbformat": 4,
 "nbformat_minor": 0
}
