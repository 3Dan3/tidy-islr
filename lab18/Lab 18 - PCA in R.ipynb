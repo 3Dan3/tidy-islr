{
 "cells": [
  {
   "cell_type": "markdown",
   "metadata": {},
   "source": [
    "This lab on Principal Components Analysis in R is an adaptation of p. 401-404,\n",
    "408-410 of \"Introduction to Statistical Learning with Applications in R\" by Gareth James,\n",
    "Daniela Witten, Trevor Hastie and Robert Tibshirani. Adapted by R. Jordan Crouser at\n",
    "Smith College for SDS293: Machine Learning (Spring 2016).\n",
    "\n",
    "# 10.4 Lab 1: Principal Components Analysis\n",
    "\n",
    "In this lab, we perform PCA on the ${\\tt USArrests}$ data set, which is part of\n",
    "the base ${\\tt R}$ package. The rows of the data set contain the 50 states, in\n",
    "alphabetical order:"
   ]
  },
  {
   "cell_type": "code",
   "execution_count": null,
   "metadata": {
    "collapsed": false
   },
   "outputs": [],
   "source": [
    "states=row.names(USArrests)\n",
    "states"
   ]
  },
  {
   "cell_type": "markdown",
   "metadata": {},
   "source": [
    "The columns of the data set contain four variables relating to various crimes:"
   ]
  },
  {
   "cell_type": "code",
   "execution_count": null,
   "metadata": {
    "collapsed": false
   },
   "outputs": [],
   "source": [
    "names(USArrests)"
   ]
  },
  {
   "cell_type": "markdown",
   "metadata": {},
   "source": [
    "Let's start by taking a quick look at the column means of the data. We can use the ${\\tt apply()}$ function to apply a function - in this case, the ${\\tt mean()}$ function - to each row or column of the data set. The second\n",
    "input here denotes whether we wish to compute the mean of the rows, 1,\n",
    "or the columns, 2:"
   ]
  },
  {
   "cell_type": "code",
   "execution_count": null,
   "metadata": {
    "collapsed": false
   },
   "outputs": [],
   "source": [
    "apply(USArrests, 2, mean)"
   ]
  },
  {
   "cell_type": "markdown",
   "metadata": {},
   "source": [
    "We see right away the the data have **vastly** different means. We can also examine the variances of the four variables using the ${\\tt apply()}$ function:"
   ]
  },
  {
   "cell_type": "code",
   "execution_count": null,
   "metadata": {
    "collapsed": false
   },
   "outputs": [],
   "source": [
    "apply(USArrests, 2, var)"
   ]
  },
  {
   "cell_type": "markdown",
   "metadata": {},
   "source": [
    "Not surprisingly, the variables also have vastly different variances: the\n",
    "${\\tt UrbanPop}$ variable measures the percentage of the population in each state\n",
    "living in an urban area, which is not a comparable number to the number\n",
    "of crimes committeed in each state per 100,000 individuals. If we failed to scale the\n",
    "variables before performing PCA, then most of the principal components\n",
    "that we observed would be driven by the ${\\tt Assault}$ variable, since it has by\n",
    "far the largest mean and variance. \n",
    "\n",
    "Thus, it is important to standardize the\n",
    "variables to have mean zero and standard deviation 1 before performing\n",
    "PCA. In this lab, we'll perform principal components analysis using the ${\\tt prcomp()}$ function, which is one of several functions in ${\\tt R}$ that perform PCA. By default, the ${\\tt prcomp()}$ function centers the variables to have mean zero. By using the option ${\\tt scale=TRUE}$, we scale the variables to have standard\n",
    "deviation 1:"
   ]
  },
  {
   "cell_type": "code",
   "execution_count": null,
   "metadata": {
    "collapsed": true
   },
   "outputs": [],
   "source": [
    "pr.out=prcomp(USArrests, scale=TRUE)"
   ]
  },
  {
   "cell_type": "markdown",
   "metadata": {},
   "source": [
    "The output from ${\\tt prcomp()}$ contains a number of useful quantities:"
   ]
  },
  {
   "cell_type": "code",
   "execution_count": null,
   "metadata": {
    "collapsed": false
   },
   "outputs": [],
   "source": [
    "names(pr.out)"
   ]
  },
  {
   "cell_type": "markdown",
   "metadata": {},
   "source": [
    "The ${\\tt center}$ and ${\\tt scale}$ components correspond to the means and standard\n",
    "deviations of the variables that were used for scaling prior to implementing\n",
    "PCA:"
   ]
  },
  {
   "cell_type": "code",
   "execution_count": null,
   "metadata": {
    "collapsed": false
   },
   "outputs": [],
   "source": [
    "pr.out$center\n",
    "pr.out$scale"
   ]
  },
  {
   "cell_type": "markdown",
   "metadata": {},
   "source": [
    "The rotation matrix provides the principal component loadings; each column\n",
    "of ${\\tt pr.out\\$rotation}$ contains the corresponding principal component\n",
    "loading vector:"
   ]
  },
  {
   "cell_type": "code",
   "execution_count": null,
   "metadata": {
    "collapsed": false
   },
   "outputs": [],
   "source": [
    "pr.out$rotation"
   ]
  },
  {
   "cell_type": "markdown",
   "metadata": {},
   "source": [
    "We see that there are four distinct principal components. This is to be\n",
    "expected because there are in general ${\\tt min(n − 1, p)}$ informative principal\n",
    "components in a data set with $n$ observations and $p$ variables.\n",
    "\n",
    "Using the ${\\tt prcomp()}$ function, we do not need to explicitly multiply the\n",
    "data by the principal component loading vectors in order to obtain the\n",
    "principal component score vectors. Rather the 50 × 4 matrix $x$ has as its\n",
    "columns the principal component score vectors. That is, the $k^{th}$ column is\n",
    "the $k^{th}$ principal component score vector. We'll take a look at the first few states:"
   ]
  },
  {
   "cell_type": "code",
   "execution_count": null,
   "metadata": {
    "collapsed": false
   },
   "outputs": [],
   "source": [
    "head(pr.out$x)"
   ]
  },
  {
   "cell_type": "markdown",
   "metadata": {},
   "source": [
    "We can plot the first two principal components using the ${\\tt biplot()}$ function:"
   ]
  },
  {
   "cell_type": "code",
   "execution_count": null,
   "metadata": {
    "collapsed": false
   },
   "outputs": [],
   "source": [
    "biplot(pr.out, scale=0)"
   ]
  },
  {
   "cell_type": "markdown",
   "metadata": {},
   "source": [
    "The ${\\tt scale=0}$ argument to ${\\tt biplot()}$ ensures that the arrows are scaled to\n",
    "represent the loadings; other values for ${\\tt scale}$ give slightly different biplots\n",
    "with different interpretations.\n",
    "\n",
    "The ${\\tt prcomp()}$ function also outputs the standard deviation of each principal\n",
    "component. We can access these standard deviations as follows:"
   ]
  },
  {
   "cell_type": "code",
   "execution_count": null,
   "metadata": {
    "collapsed": false
   },
   "outputs": [],
   "source": [
    "pr.out$sdev"
   ]
  },
  {
   "cell_type": "markdown",
   "metadata": {},
   "source": [
    "The variance explained by each principal component is obtained by squaring\n",
    "these:"
   ]
  },
  {
   "cell_type": "code",
   "execution_count": null,
   "metadata": {
    "collapsed": false
   },
   "outputs": [],
   "source": [
    "pr.var=pr.out$sdev^2\n",
    "pr.var"
   ]
  },
  {
   "cell_type": "markdown",
   "metadata": {},
   "source": [
    "To compute the proportion of variance explained by each principal component,\n",
    "we simply divide the variance explained by each principal component\n",
    "by the total variance explained by all four principal components:"
   ]
  },
  {
   "cell_type": "code",
   "execution_count": null,
   "metadata": {
    "collapsed": false
   },
   "outputs": [],
   "source": [
    "pve=pr.var/sum(pr.var)\n",
    "pve"
   ]
  },
  {
   "cell_type": "markdown",
   "metadata": {},
   "source": [
    "We see that the first principal component explains 62.0% of the variance\n",
    "in the data, the next principal component explains 24.7% of the variance,\n",
    "and so forth. We can plot the PVE explained by each component as follows:"
   ]
  },
  {
   "cell_type": "code",
   "execution_count": null,
   "metadata": {
    "collapsed": false
   },
   "outputs": [],
   "source": [
    "plot(pve, xlab=\"Principal Component\", ylab=\"Proportion of Variance Explained\", ylim=c(0,1),type='b')"
   ]
  },
  {
   "cell_type": "markdown",
   "metadata": {},
   "source": [
    "We can also use the function ${\\tt cumsum()}$, which computes the cumulative sum of the elements of a numeric vector, to plot the cumulative PVE:"
   ]
  },
  {
   "cell_type": "code",
   "execution_count": null,
   "metadata": {
    "collapsed": false
   },
   "outputs": [],
   "source": [
    "plot(cumsum(pve), xlab=\"Principal Component\", ylab=\"Cumulative Proportion of Variance Explained\", ylim=c(0,1),type='b')\n",
    "a=c(1,2,8,-3)\n",
    "cumsum(a)"
   ]
  },
  {
   "cell_type": "markdown",
   "metadata": {},
   "source": [
    "# 10.6: NCI60 Data Example\n",
    "\n",
    "Let's return to the ${\\tt NCI60}$ cancer cell line microarray data, which\n",
    "consists of 6,830 gene expression measurements on 64 cancer cell lines:"
   ]
  },
  {
   "cell_type": "code",
   "execution_count": null,
   "metadata": {
    "collapsed": true
   },
   "outputs": [],
   "source": [
    "library(ISLR)\n",
    "nci.labs=NCI60$labs\n",
    "nci.data=NCI60$data"
   ]
  },
  {
   "cell_type": "markdown",
   "metadata": {},
   "source": [
    "# 10.6.1 PCA on the NCI60 Data\n",
    "\n",
    "We first perform PCA on the data after scaling the variables (genes) to\n",
    "have standard deviation one, although one could reasonably argue that it\n",
    "is better not to scale the genes:"
   ]
  },
  {
   "cell_type": "code",
   "execution_count": null,
   "metadata": {
    "collapsed": true
   },
   "outputs": [],
   "source": [
    "pr.out=prcomp(nci.data, scale=TRUE)"
   ]
  },
  {
   "cell_type": "markdown",
   "metadata": {},
   "source": [
    "We now plot the first few principal component score vectors, in order to\n",
    "visualize the data. The observations (cell lines) corresponding to a given\n",
    "cancer type will be plotted in the same color, so that we can see to what\n",
    "extent the observations within a cancer type are similar to each other. We\n",
    "first create a simple function that assigns a distinct color to each element\n",
    "of a numeric vector. The function will be used to assign a color to each of\n",
    "the 64 cell lines, based on the cancer type to which it corresponds.\n",
    "We'll make use of the ${\\tt rainbow()}$ function, which takes as its argument a positive integer,\n",
    "and returns a vector containing that number of distinct colors."
   ]
  },
  {
   "cell_type": "code",
   "execution_count": null,
   "metadata": {
    "collapsed": true
   },
   "outputs": [],
   "source": [
    "Cols=function(vec){\n",
    "    cols=rainbow(length(unique(vec)))\n",
    "    return(cols[as.numeric(as.factor(vec))])\n",
    "  }"
   ]
  },
  {
   "cell_type": "markdown",
   "metadata": {},
   "source": [
    "We now can plot the principal component score vectors:"
   ]
  },
  {
   "cell_type": "code",
   "execution_count": null,
   "metadata": {
    "collapsed": false
   },
   "outputs": [],
   "source": [
    "par(mfrow=c(1,2))\n",
    "plot(pr.out$x[,1:2], col=Cols(nci.labs), pch=19,xlab=\"Z1\",ylab=\"Z2\")\n",
    "plot(pr.out$x[,c(1,3)], col=Cols(nci.labs), pch=19,xlab=\"Z1\",ylab=\"Z3\")"
   ]
  },
  {
   "cell_type": "markdown",
   "metadata": {},
   "source": [
    "On the whole, cell lines corresponding to a single cancer type do tend to have similar values on the\n",
    "first few principal component score vectors. This indicates that cell lines\n",
    "from the same cancer type tend to have pretty similar gene expression\n",
    "levels.\n",
    "\n",
    "We can obtain a summary of the proportion of variance explained (PVE)\n",
    "of the first few principal components using the ${\\tt summary()}$ method for a\n",
    "${\\tt prcomp}$ object:"
   ]
  },
  {
   "cell_type": "code",
   "execution_count": null,
   "metadata": {
    "collapsed": false
   },
   "outputs": [],
   "source": [
    "summary(pr.out)"
   ]
  },
  {
   "cell_type": "markdown",
   "metadata": {},
   "source": [
    "Using the ${\\tt plot()}$ function, we can also plot the variance explained by the\n",
    "first few principal components:"
   ]
  },
  {
   "cell_type": "code",
   "execution_count": null,
   "metadata": {
    "collapsed": false
   },
   "outputs": [],
   "source": [
    "plot(pr.out)"
   ]
  },
  {
   "cell_type": "markdown",
   "metadata": {},
   "source": [
    "Note that the height of each bar in the bar plot is given by squaring the\n",
    "corresponding element of ${\\tt pr.out\\$sdev}$. However, it is generally more informative to\n",
    "plot the PVE of each principal component (i.e. a **scree plot**) and the cumulative\n",
    "PVE of each principal component. This can be done with just a\n",
    "little tweaking:"
   ]
  },
  {
   "cell_type": "code",
   "execution_count": null,
   "metadata": {
    "collapsed": false
   },
   "outputs": [],
   "source": [
    "pve=100*pr.out$sdev^2/sum(pr.out$sdev^2)\n",
    "par(mfrow=c(1,2))\n",
    "plot(pve,  type=\"o\", ylab=\"PVE\", xlab=\"Principal Component\", col=\"blue\")\n",
    "plot(cumsum(pve), type=\"o\", ylab=\"Cumulative PVE\", xlab=\"Principal Component\", col=\"brown3\")"
   ]
  },
  {
   "cell_type": "markdown",
   "metadata": {},
   "source": [
    "We see that together, the first seven principal components\n",
    "explain around 40% of the variance in the data. This is not a huge amount\n",
    "of the variance. However, looking at the scree plot, we see that while each\n",
    "of the first seven principal components explain a substantial amount of\n",
    "variance, there is a marked decrease in the variance explained by further\n",
    "principal components. That is, there is an **elbow** in the plot after approximately\n",
    "the seventh principal component. This suggests that there may\n",
    "be little benefit to examining more than seven or so principal components\n",
    "(phew! even examining seven principal components may be difficult)."
   ]
  }
 ],
 "metadata": {
  "kernelspec": {
   "display_name": "R",
   "language": "R",
   "name": "ir"
  },
  "language_info": {
   "codemirror_mode": "r",
   "file_extension": ".r",
   "mimetype": "text/x-r-source",
   "name": "R",
   "pygments_lexer": "r",
   "version": "3.2.2"
  }
 },
 "nbformat": 4,
 "nbformat_minor": 0
}
