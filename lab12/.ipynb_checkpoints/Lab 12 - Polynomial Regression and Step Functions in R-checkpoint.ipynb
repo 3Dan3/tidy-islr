{
 "cells": [
  {
   "cell_type": "markdown",
   "metadata": {},
   "source": [
    "This lab on Polynomial Regression and Step Functions in R comes from p. 288-292 of \"Introduction to Statistical Learning with Applications in R\" by Gareth James, Daniela Witten, Trevor Hastie and Robert Tibshirani."
   ]
  },
  {
   "cell_type": "code",
   "execution_count": null,
   "metadata": {
    "collapsed": true
   },
   "outputs": [],
   "source": [
    "library(ISLR)"
   ]
  },
  {
   "cell_type": "markdown",
   "metadata": {},
   "source": [
    "# 7.8.1 Polynomial Regression and Step Functions\n",
    "\n",
    "In this lab, we'll explore how to generate the ${\\tt Wage}$ dataset models we saw in class. We first fit the polynomial regression model using the following command:"
   ]
  },
  {
   "cell_type": "code",
   "execution_count": null,
   "metadata": {
    "collapsed": false
   },
   "outputs": [],
   "source": [
    "fit=lm(wage~poly(age,4),data=Wage)\n",
    "coef(summary(fit))"
   ]
  },
  {
   "cell_type": "markdown",
   "metadata": {},
   "source": [
    "This syntax fits a linear model, using the ${\\tt lm()}$ function, in order to predict\n",
    "wage using a fourth-degree polynomial in ${\\tt age}$: ${\\tt poly(age,4)}$. The ${\\tt poly()}$ command\n",
    "allows us to avoid having to write out a long formula with powers\n",
    "of ${\\tt age}$. The function returns a matrix whose columns are a basis of orthogonal\n",
    "polynomials, which essentially means that each column is a linear\n",
    "combination of the variables ${\\tt age}$, ${\\tt age^2}$, ${\\tt age^3}$ and ${\\tt age^4}$.\n",
    "\n",
    "If we prefer, we can also use ${\\tt poly()}$ to obtain ${\\tt age}$, ${\\tt age^2}$, ${\\tt age^3}$ and ${\\tt age^4}$\n",
    "directly. We can do this by using the ${\\tt raw=TRUE}$ argument to\n",
    "the ${\\tt poly()}$ function. Later we see that this does not affect the model in a\n",
    "meaningful way -- though the choice of basis clearly affects the coefficient\n",
    "estimates, it does not affect the fitted values obtained."
   ]
  },
  {
   "cell_type": "code",
   "execution_count": null,
   "metadata": {
    "collapsed": false
   },
   "outputs": [],
   "source": [
    "fit2=lm(wage~poly(age,4,raw=T),data=Wage)\n",
    "coef(summary(fit2))"
   ]
  },
  {
   "cell_type": "markdown",
   "metadata": {},
   "source": [
    "---\n",
    "**Note:** The following section just showcases the flexibility of ${\\tt R}$'s formula language; I've included them here to help you become more literate in ${\\tt R}$ syntax, but you can skip this if you're not particularly interested in that.\n",
    "\n",
    "There are several other equivalent ways of fitting this same model. For example:"
   ]
  },
  {
   "cell_type": "code",
   "execution_count": null,
   "metadata": {
    "collapsed": false
   },
   "outputs": [],
   "source": [
    "fit2a=lm(wage~age+I(age^2)+I(age^3)+I(age^4),data=Wage)\n",
    "coef(fit2a)"
   ]
  },
  {
   "cell_type": "markdown",
   "metadata": {},
   "source": [
    "This simply creates the polynomial basis functions on the fly, taking care\n",
    "to protect terms like ${\\tt age}$^${2}$ via the wrapper function ${\\tt I()}$ (the ^ symbol has\n",
    "a special meaning in formulas)."
   ]
  },
  {
   "cell_type": "code",
   "execution_count": null,
   "metadata": {
    "collapsed": true
   },
   "outputs": [],
   "source": [
    "fit2b=lm(wage~cbind(age,age^2,age^3,age^4),data=Wage)"
   ]
  },
  {
   "cell_type": "markdown",
   "metadata": {},
   "source": [
    "This does the same more compactly, using the ${\\tt cbind()}$ function for building\n",
    "a matrix from a collection of vectors; any function call such as ${\\tt cbind()}$ inside\n",
    "a formula also serves as a wrapper.\n",
    "\n",
    "Okay, back to the real stuff...\n",
    "***\n",
    "We now create a grid of values for ${\\tt age}$ at which we want predictions, and\n",
    "then call the generic ${\\tt predict()}$ function, specifying that we want standard\n",
    "errors as well."
   ]
  },
  {
   "cell_type": "code",
   "execution_count": null,
   "metadata": {
    "collapsed": false
   },
   "outputs": [],
   "source": [
    "# Get min/max values of age\n",
    "agelims=range(Wage$age)\n",
    "\n",
    "# Generate a sequence of age values spanning the range\n",
    "age.grid=seq(from=agelims[1],to=agelims[2])\n",
    "\n",
    "# Predict the value of the generated ages, returning the standard error using se=TRUE\n",
    "preds=predict(fit,newdata=list(age=age.grid),se=TRUE)\n",
    "\n",
    "# Compute error bands (2*SE)\n",
    "se.bands=cbind(preds$fit+2*preds$se.fit,preds$fit-2*preds$se.fit)"
   ]
  },
  {
   "cell_type": "markdown",
   "metadata": {},
   "source": [
    "Finally, we plot the data and add the fit from the degree-4 polynomial."
   ]
  },
  {
   "cell_type": "code",
   "execution_count": null,
   "metadata": {
    "collapsed": false
   },
   "outputs": [],
   "source": [
    "plot(Wage$age,Wage$wage,xlim=agelims,cex=.5,col=\"darkgrey\")\n",
    "title(\"Degree-4 Polynomial\")\n",
    "lines(age.grid,preds$fit,lwd=2,col=\"blue\")\n",
    "matlines(age.grid,se.bands,lwd=1,col=\"blue\",lty=3)"
   ]
  },
  {
   "cell_type": "markdown",
   "metadata": {},
   "source": [
    "We mentioned earlier that whether or not an orthogonal set of basis functions\n",
    "is produced in the ${\\tt poly()}$ function will not affect the model obtained\n",
    "in a meaningful way. What do we mean by this? The fitted values obtained\n",
    "in either case are identical (up to a miniscule rounding error caused by building our models on a computer):"
   ]
  },
  {
   "cell_type": "code",
   "execution_count": null,
   "metadata": {
    "collapsed": false
   },
   "outputs": [],
   "source": [
    "preds2=predict(fit2,newdata=list(age=age.grid),se=TRUE)\n",
    "max(abs(preds$fit-preds2$fit))"
   ]
  },
  {
   "cell_type": "markdown",
   "metadata": {},
   "source": [
    "# Deciding on a degree\n",
    "\n",
    "In performing a polynomial regression we must decide on the degree of\n",
    "the polynomial to use. One way to do this is by using hypothesis tests. We\n",
    "now fit models ranging from linear to a degree-5 polynomial and seek to\n",
    "determine the simplest model which is sufficient to explain the relationship\n",
    "between ${\\tt wage}$ and ${\\tt age}$.\n",
    "\n",
    "We can do this using the ${\\tt anova()}$ function, which performs an\n",
    "analysis of variance (ANOVA, using an F-test) in order to test the null\n",
    "hypothesis that a model $M_1$ is sufficient to explain the data against the \n",
    "alternative hypothesis that a more complex model $M_2$ is required. In order\n",
    "to use the ${\\tt anova()}$ function, $M_1$ and $M_2$ must be **nested models**: the\n",
    "predictors in $M_1$ must be a subset of the predictors in $M_2$. In this case,\n",
    "we fit five different models and sequentially compare the simpler model to\n",
    "the more complex model:"
   ]
  },
  {
   "cell_type": "code",
   "execution_count": null,
   "metadata": {
    "collapsed": false
   },
   "outputs": [],
   "source": [
    "fit.1=lm(wage~age,data=Wage)\n",
    "fit.2=lm(wage~poly(age,2),data=Wage)\n",
    "fit.3=lm(wage~poly(age,3),data=Wage)\n",
    "fit.4=lm(wage~poly(age,4),data=Wage)\n",
    "fit.5=lm(wage~poly(age,5),data=Wage)\n",
    "print(anova(fit.1,fit.2,fit.3,fit.4,fit.5))"
   ]
  },
  {
   "cell_type": "markdown",
   "metadata": {},
   "source": [
    "The $p$-value comparing the linear Model 1 to the quadratic Model 2 is\n",
    "essentially zero $(<10^{-15})$, indicating that a linear fit is not sufficient. Similarly\n",
    "the $p$-value comparing the quadratic Model 2 to the cubic Model 3\n",
    "is very low (0.0017), so the quadratic fit is also insufficient. The $p$-value\n",
    "comparing the cubic and degree-4 polynomials, Model 3 and Model 4, is approximately\n",
    "0.05 while the degree-5 polynomial Model 5 seems unnecessary\n",
    "because its $p$-value is 0.37. Hence, either a cubic or a quartic polynomial\n",
    "appear to provide a reasonable fit to the data, but lower- or higher-order\n",
    "models are not justified.\n",
    "\n",
    "In this case, instead of using the ${\\tt anova()}$ function, we could also have obtained\n",
    "these $p$-values more succinctly by exploiting the fact that ${\\tt poly()}$ creates\n",
    "orthogonal polynomials."
   ]
  },
  {
   "cell_type": "code",
   "execution_count": null,
   "metadata": {
    "collapsed": false
   },
   "outputs": [],
   "source": [
    "print(coef(summary(fit.5)))"
   ]
  },
  {
   "cell_type": "markdown",
   "metadata": {},
   "source": [
    "Notice that the p-values are the same, and in fact the square of the\n",
    "t-statistics are equal to the F-statistics from the ${\\tt anova()}$ function; for\n",
    "example:"
   ]
  },
  {
   "cell_type": "code",
   "execution_count": null,
   "metadata": {
    "collapsed": false
   },
   "outputs": [],
   "source": [
    "(-11.983)^2"
   ]
  },
  {
   "cell_type": "markdown",
   "metadata": {},
   "source": [
    "However, the ANOVA method works whether or not we used orthogonal\n",
    "polynomials; it also works when we have other terms in the model as well.\n",
    "For example, we can use ${\\tt anova()}$ to compare these three models:"
   ]
  },
  {
   "cell_type": "code",
   "execution_count": null,
   "metadata": {
    "collapsed": false
   },
   "outputs": [],
   "source": [
    "fit.1=lm(wage~education+age,data=Wage)\n",
    "fit.2=lm(wage~education+poly(age,2),data=Wage)\n",
    "fit.3=lm(wage~education+poly(age,3),data=Wage)\n",
    "print(anova(fit.1,fit.2,fit.3))"
   ]
  },
  {
   "cell_type": "markdown",
   "metadata": {},
   "source": [
    "As an alternative to using hypothesis tests and ANOVA, we could choose\n",
    "the polynomial degree using cross-validation as we have in previous labs.\n",
    "\n",
    "Next we consider the task of predicting whether an individual earns more\n",
    "than \\$250,000 per year. We proceed much as before, except that first we\n",
    "create the appropriate response vector, and then apply the ${\\tt glm()}$ function\n",
    "using ${\\tt family=\"binomial\"}$ in order to fit a polynomial logistic regression\n",
    "model:"
   ]
  },
  {
   "cell_type": "code",
   "execution_count": null,
   "metadata": {
    "collapsed": true
   },
   "outputs": [],
   "source": [
    "fit=glm(I(wage>250)~poly(age,4),data=Wage,family=binomial)"
   ]
  },
  {
   "cell_type": "markdown",
   "metadata": {},
   "source": [
    "Note that we again use the wrapper ${\\tt I()}$ to create this binary response\n",
    "variable on the fly. The expression ${\\tt wage>250}$ evaluates to a logical variable\n",
    "containing ${\\tt TRUEs}$ and ${\\tt FALSEs}$, which ${\\tt glm()}$ coerces to binary by setting the\n",
    "${\\tt TRUEs}$ to 1 and the ${\\tt FALSEs}$ to 0.\n",
    "\n",
    "Once again, we make predictions using the ${\\tt predict()}$ function:"
   ]
  },
  {
   "cell_type": "code",
   "execution_count": null,
   "metadata": {
    "collapsed": true
   },
   "outputs": [],
   "source": [
    "preds=predict(fit,newdata=list(age=age.grid),se=T)"
   ]
  },
  {
   "cell_type": "markdown",
   "metadata": {},
   "source": [
    "However, calculating the confidence intervals is slightly more involved than\n",
    "in the linear regression case. The default prediction type for a glm() model\n",
    "is type=\"link\", which is what we use here. This means we get predictions\n",
    "for the logit: that is, we have fit a model of the form\n",
    "\n",
    "$$log\\left(\\frac{Pr(Y = 1|X)}{1 − Pr(Y = 1|X)}\\right)= X\\beta$$\n",
    "\n",
    "and the predictions given are of the form $X\\hat \\beta$. The standard errors given are\n",
    "also of this form. In order to obtain confidence intervals for $Pr(Y = 1|X)$,\n",
    "we use the transformation:\n",
    "\n",
    "$$Pr(Y = 1|X) = \\frac{e^{X\\beta}}{1 + e^{X\\beta}}$$\n"
   ]
  },
  {
   "cell_type": "code",
   "execution_count": null,
   "metadata": {
    "collapsed": true
   },
   "outputs": [],
   "source": [
    "pfit=exp(preds$fit)/(1+exp(preds$fit))\n",
    "se.bands.logit = cbind(preds$fit+2*preds$se.fit, preds$fit-2*preds$se.fit)\n",
    "se.bands = exp(se.bands.logit)/(1+exp(se.bands.logit))"
   ]
  },
  {
   "cell_type": "markdown",
   "metadata": {},
   "source": [
    "We could have directly computed the probabilities by selecting\n",
    "the ${\\tt type=\"response\"}$ option in the ${\\tt predict()}$ function. However, the corresponding confidence intervals would not have been sensible because we would end up with negative probabilities!\n",
    "\n",
    "Now we're ready to draw the second plot we saw in class:"
   ]
  },
  {
   "cell_type": "code",
   "execution_count": null,
   "metadata": {
    "collapsed": false
   },
   "outputs": [],
   "source": [
    "plot(Wage$age,I(Wage$wage>250),xlim=agelims,type=\"n\",ylim=c(0,.2))\n",
    "points(jitter(Wage$age), I((Wage$wage>250)/5),cex=.5,pch=\"|\",col=\"darkgrey\")\n",
    "lines(age.grid,pfit,lwd=2, col=\"blue\")\n",
    "matlines(age.grid,se.bands,lwd=1,col=\"blue\",lty=3)"
   ]
  },
  {
   "cell_type": "markdown",
   "metadata": {},
   "source": [
    "We have drawn the ${\\tt age}$ values corresponding to the observations with ${\\tt wage}$\n",
    "values above 250 as gray marks on the top of the plot, and those with ${\\tt wage}$\n",
    "values below 250 are shown as gray marks on the bottom of the plot. We\n",
    "used the ${\\tt jitter()}$ function to jitter the ${\\tt age}$ values a bit so that observations\n",
    "with the same ${\\tt age}$ value do not cover each other up. This is often called a\n",
    "*rug plot*.\n",
    "\n",
    "# Step functions\n",
    "In order to fit a step function, we use the ${\\tt cut()}$ function:"
   ]
  },
  {
   "cell_type": "code",
   "execution_count": null,
   "metadata": {
    "collapsed": false
   },
   "outputs": [],
   "source": [
    "table(cut(Wage$age,4))\n",
    "fit.step=lm(wage~cut(age,4),data=Wage)\n",
    "print(coef(summary(fit)))"
   ]
  },
  {
   "cell_type": "markdown",
   "metadata": {},
   "source": [
    "Here ${\\tt cut()}$ automatically picked the cutpoints at 33.5, 49, and 64.5 years\n",
    "of age. We could also have specified our own cutpoints directly using the\n",
    "${\\tt breaks}$ option. The function ${\\tt cut()}$ returns an ordered categorical variable;\n",
    "the lm() function then creates a set of dummy variables for use in the regression.\n",
    "The ${\\tt age<33.5}$ category is left out, so the intercept coefficient of\n",
    "\\$94,160 can be interpreted as the average salary for those under 33.5 years\n",
    "of age, and the other coefficients can be interpreted as the average additional\n",
    "salary for those in the other age groups. \n",
    "\n",
    "We can produce predictions\n",
    "and plots just as we did in the case of the polynomial fit."
   ]
  },
  {
   "cell_type": "code",
   "execution_count": null,
   "metadata": {
    "collapsed": false
   },
   "outputs": [],
   "source": [
    "# Predict the value of the generated ages, returning the standard error using se=TRUE\n",
    "preds=predict(fit,newdata=list(age=age.grid),se=TRUE)\n",
    "\n",
    "# Compute error bands (2*SE)\n",
    "se.bands=cbind(preds$fit+2*preds$se.fit,preds$fit-2*preds$se.fit)\n",
    "\n",
    "# Plot\n",
    "plot(Wage$age,Wage$wage,xlim=agelims,cex=.5,col=\"darkgrey\")\n",
    "title(\"Step Function\")\n",
    "lines(age.grid,preds$fit,lwd=2,col=\"blue\")\n",
    "matlines(age.grid,se.bands,lwd=1,col=\"blue\",lty=3)"
   ]
  },
  {
   "cell_type": "markdown",
   "metadata": {},
   "source": [
    "To get credit for this lab, post your responses to the following questions:\n",
    " - What is one real-world example where you might try polynomial regression?\n",
    " - What is one real-world example where you might try using a step function?\n",
    " \n",
    "to Piazza: https://piazza.com/class/igwiv4w3ctb6rg?cid=48"
   ]
  }
 ],
 "metadata": {
  "kernelspec": {
   "display_name": "R",
   "language": "R",
   "name": "ir"
  },
  "language_info": {
   "codemirror_mode": "r",
   "file_extension": ".r",
   "mimetype": "text/x-r-source",
   "name": "R",
   "pygments_lexer": "r",
   "version": "3.3.0"
  }
 },
 "nbformat": 4,
 "nbformat_minor": 0
}
