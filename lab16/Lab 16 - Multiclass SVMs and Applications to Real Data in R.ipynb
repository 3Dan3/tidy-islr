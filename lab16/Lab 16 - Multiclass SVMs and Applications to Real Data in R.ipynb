{
 "cells": [
  {
   "cell_type": "markdown",
   "metadata": {},
   "source": [
    "This lab on Multiclass Support Vector Machines in R is an adaptation of p. 366-368 of \"Introduction to Statistical\n",
    "Learning with Applications in R\" by Gareth James, Daniela Witten, Trevor Hastie and Robert Tibshirani. Adapted by R. Jordan Crouser at Smith College for SDS293: Machine\n",
    "Learning (Spring 2016)."
   ]
  },
  {
   "cell_type": "code",
   "execution_count": null,
   "metadata": {
    "collapsed": true
   },
   "outputs": [],
   "source": [
    "library(e1071)"
   ]
  },
  {
   "cell_type": "markdown",
   "metadata": {},
   "source": [
    "Below is the dataset we generated during the previous lab:"
   ]
  },
  {
   "cell_type": "code",
   "execution_count": null,
   "metadata": {
    "collapsed": false
   },
   "outputs": [],
   "source": [
    "set.seed(1)\n",
    "x=matrix(rnorm(200*2), ncol=2)\n",
    "x[1:100,]=x[1:100,]+2\n",
    "x[101:150,]=x[101:150,]-2\n",
    "y=c(rep(1,150),rep(2,50))\n",
    "plot(x,col=(y+1))"
   ]
  },
  {
   "cell_type": "markdown",
   "metadata": {},
   "source": [
    "# 9.6.4 SVM with Multiple Classes\n",
    "\n",
    "If the response is a factor containing more than two levels, then the ${\\tt svm()}$\n",
    "function will perform multi-class classification using the one-versus-one approach.\n",
    "We explore that setting here by generating a third class of observations:"
   ]
  },
  {
   "cell_type": "code",
   "execution_count": null,
   "metadata": {
    "collapsed": false
   },
   "outputs": [],
   "source": [
    "x=rbind(x, matrix(rnorm(50*2), ncol=2))\n",
    "y=c(y, rep(0,50))\n",
    "x[y==0,2]=x[y==0,2]+2\n",
    "dat=data.frame(x=x, y=as.factor(y))\n",
    "plot(x,col=(y+1))"
   ]
  },
  {
   "cell_type": "markdown",
   "metadata": {},
   "source": [
    "Fitting an SVM to multiclass data uses identical syntax to fitting a simple two-class model:"
   ]
  },
  {
   "cell_type": "code",
   "execution_count": null,
   "metadata": {
    "collapsed": false
   },
   "outputs": [],
   "source": [
    "svmfit=svm(y~., data=dat, kernel=\"radial\", cost=10, gamma=1)\n",
    "plot(svmfit, dat)"
   ]
  },
  {
   "cell_type": "markdown",
   "metadata": {},
   "source": [
    "The ${\\tt e1071}$ library can also be used to perform support vector regression,\n",
    "if the response vector that is passed in to ${\\tt svm()}$ is numerical rather than a\n",
    "factor."
   ]
  },
  {
   "cell_type": "markdown",
   "metadata": {},
   "source": [
    "# 9.6.5 Application to Gene Expression Data\n",
    "\n",
    "We now examine the ${\\tt Khan}$ dataset from the ${\\tt ISLR}$ library, which consists of a number of tissue\n",
    "samples corresponding to **four distinct types** of small round blue cell tumors.\n",
    "For each tissue sample, gene expression measurements are available.\n",
    "\n",
    "The data set consists of training data, ${\\tt xtrain}$ and ${\\tt ytrain}$, and testing data,\n",
    "${\\tt xtest}$ and ${\\tt ytest}$:"
   ]
  },
  {
   "cell_type": "code",
   "execution_count": null,
   "metadata": {
    "collapsed": false
   },
   "outputs": [],
   "source": [
    "library(ISLR)\n",
    "names(Khan)"
   ]
  },
  {
   "cell_type": "markdown",
   "metadata": {},
   "source": [
    "Let's take a look at the dimensions of this dataset:"
   ]
  },
  {
   "cell_type": "code",
   "execution_count": null,
   "metadata": {
    "collapsed": false
   },
   "outputs": [],
   "source": [
    "dim(Khan$xtrain)\n",
    "dim(Khan$xtest)"
   ]
  },
  {
   "cell_type": "markdown",
   "metadata": {},
   "source": [
    "This data set consists of expression measurements for 2,308 genes.\n",
    "The training and test sets consist of 63 and 20 observations respectively. Let's see how the classes compare:"
   ]
  },
  {
   "cell_type": "code",
   "execution_count": null,
   "metadata": {
    "collapsed": false
   },
   "outputs": [],
   "source": [
    "table(Khan$ytrain)\n",
    "table(Khan$ytest)"
   ]
  },
  {
   "cell_type": "markdown",
   "metadata": {},
   "source": [
    "We will use a support vector approach to predict cancer subtype using gene\n",
    "expression measurements. In this dataset, there are a very large number\n",
    "of features relative to the number of observations. This suggests that we\n",
    "should use a **linear kernel**, because the additional flexibility that will result\n",
    "from using a polynomial or radial kernel is unnecessary."
   ]
  },
  {
   "cell_type": "code",
   "execution_count": null,
   "metadata": {
    "collapsed": false
   },
   "outputs": [],
   "source": [
    "data.train=data.frame(x=Khan$xtrain, y=as.factor(Khan$ytrain))\n",
    "out=svm(y~., data=data.train, kernel=\"linear\",cost=10)\n",
    "table(out$fitted, data.train$y)"
   ]
  },
  {
   "cell_type": "markdown",
   "metadata": {},
   "source": [
    "We see that there are **no training errors**. In fact, this is not surprising,\n",
    "because the large number of variables relative to the number of observations\n",
    "implies that it is easy to find hyperplanes that fully separate the classes. We\n",
    "are most interested not in the support vector classifier’s performance on the\n",
    "training observations, but rather its performance on the test observations:"
   ]
  },
  {
   "cell_type": "code",
   "execution_count": null,
   "metadata": {
    "collapsed": false
   },
   "outputs": [],
   "source": [
    "data.test=data.frame(x=Khan$xtest, y=as.factor(Khan$ytest))\n",
    "pred=predict(out, newdata=data.test)\n",
    "table(pred, data.test$y)"
   ]
  },
  {
   "cell_type": "markdown",
   "metadata": {},
   "source": [
    "We see that using ${\\tt cost=10}$ yields two test set errors on this data.\n",
    "\n",
    "# Problem 9.7.8\n",
    "\n",
    "Now it's your turn! In this section of the lab, we'll try exploring the ${\\tt OJ}$ dataset from the ${\\tt ISLR}$ package. The data contains 1070 purchases where the customer either purchased Citrus Hill or Minute Maid\n",
    "Orange Juice. A number of characteristics of the customer and product are recorded:"
   ]
  },
  {
   "cell_type": "code",
   "execution_count": null,
   "metadata": {
    "collapsed": false
   },
   "outputs": [],
   "source": [
    "summary(OJ)"
   ]
  },
  {
   "cell_type": "markdown",
   "metadata": {},
   "source": [
    "Let's start by splitting the dataset into a training set containing a random sample of 800\n",
    "observations, and a test set containing the remaining\n",
    "observations:"
   ]
  },
  {
   "cell_type": "code",
   "execution_count": null,
   "metadata": {
    "collapsed": false
   },
   "outputs": [],
   "source": [
    "set.seed(1)\n",
    "train = sample(dim(OJ)[1], 800)\n",
    "OJ.train = OJ[train, ]\n",
    "OJ.test = OJ[-train, ]"
   ]
  },
  {
   "cell_type": "markdown",
   "metadata": {},
   "source": [
    "In the space below, fit a support vector classifier to the training data, with ${\\tt Purchase}$ as the response and the other variables\n",
    "as predictors. Use the ${\\tt summary()}$ function to produce summary\n",
    "statistics, and describe the results obtained:"
   ]
  },
  {
   "cell_type": "code",
   "execution_count": null,
   "metadata": {
    "collapsed": false
   },
   "outputs": [],
   "source": [
    "# Your code here:\n",
    "svm.linear ="
   ]
  },
  {
   "cell_type": "markdown",
   "metadata": {},
   "source": [
    "The code below will generate confusion matrices so we can see how your model does on the training data:"
   ]
  },
  {
   "cell_type": "code",
   "execution_count": null,
   "metadata": {
    "collapsed": false
   },
   "outputs": [],
   "source": [
    "table(OJ.train$Purchase, predict(svm.linear, OJ.train))"
   ]
  },
  {
   "cell_type": "markdown",
   "metadata": {},
   "source": [
    "And the test data:"
   ]
  },
  {
   "cell_type": "code",
   "execution_count": null,
   "metadata": {
    "collapsed": false
   },
   "outputs": [],
   "source": [
    "table(OJ.test$Purchase, predict(svm.linear, OJ.test))"
   ]
  },
  {
   "cell_type": "markdown",
   "metadata": {},
   "source": [
    "Now try using the ${\\tt tune()}$ function to select an optimal value for ${\\tt cost}$, and refit the model using that value. Consider values in the range 0.01 to 10:"
   ]
  },
  {
   "cell_type": "code",
   "execution_count": null,
   "metadata": {
    "collapsed": false
   },
   "outputs": [],
   "source": [
    "# Your code here\n",
    "tune.out = \n",
    "svm.linear.tuned =\n",
    "\n",
    "# Performance check\n",
    "table(OJ.test$Purchase, predict(svm.linear.tuned, OJ.test))"
   ]
  },
  {
   "cell_type": "markdown",
   "metadata": {},
   "source": [
    "Now try fitting an SVM with ${\\tt kernel=\"radial\"}$, using the default value for ${\\tt gamma}$ and cross-validation to find the best value for ${\\tt cost}$:"
   ]
  },
  {
   "cell_type": "code",
   "execution_count": null,
   "metadata": {
    "collapsed": false
   },
   "outputs": [],
   "source": [
    "# Your code here\n",
    "tune.out = \n",
    "svm.radial.tuned =\n",
    "\n",
    "# Performance check\n",
    "table(OJ.test$Purchase, predict(svm.radial.tuned, OJ.test))"
   ]
  },
  {
   "cell_type": "markdown",
   "metadata": {},
   "source": [
    "And now try ${\\tt kernel=\"polynomial\"}$ with ${\\tt degree=2}$:"
   ]
  },
  {
   "cell_type": "code",
   "execution_count": null,
   "metadata": {
    "collapsed": false
   },
   "outputs": [],
   "source": [
    "# Your code here\n",
    "tune.out = \n",
    "svm.quadratic.tuned =\n",
    "\n",
    "# Performance check\n",
    "table(OJ.test$Purchase, predict(svm.quadratic.tuned, OJ.test))"
   ]
  },
  {
   "cell_type": "markdown",
   "metadata": {},
   "source": [
    "To get credit for this lab, post about your best-performing model on the ${\\tt OJ}$ dataset:\n",
    " - Which model performed best on the training data? With which parameters?\n",
    " - Which model performed best on the test data? With which parameters?\n",
    " - What does all this tell you about the dataset?\n",
    " \n",
    "to Piazza: https://piazza.com/class/igwiv4w3ctb6rg?cid=55"
   ]
  }
 ],
 "metadata": {
  "kernelspec": {
   "display_name": "R",
   "language": "R",
   "name": "ir"
  },
  "language_info": {
   "codemirror_mode": "r",
   "file_extension": ".r",
   "mimetype": "text/x-r-source",
   "name": "R",
   "pygments_lexer": "r",
   "version": "3.2.2"
  }
 },
 "nbformat": 4,
 "nbformat_minor": 0
}
