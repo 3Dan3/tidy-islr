{
 "cells": [
  {
   "cell_type": "markdown",
   "metadata": {},
   "source": [
    "This lab on Splines and GAMs in R comes from p. 293-297 of \"Introduction to Statistical Learning with Applications in R\" by Gareth James, Daniela Witten, Trevor Hastie and Robert Tibshirani."
   ]
  },
  {
   "cell_type": "code",
   "execution_count": null,
   "metadata": {
    "collapsed": true
   },
   "outputs": [],
   "source": [
    "library(ISLR)"
   ]
  },
  {
   "cell_type": "markdown",
   "metadata": {},
   "source": [
    "# 7.8.2 Splines\n",
    "\n",
    "In order to fit regression splines in R, we use the ${\\tt splines}$ library. In lecture, we saw that regression splines can be fit by constructing an appropriate matrix of basis functions. The ${\\tt bs()}$ function generates the entire matrix of basis functions for splines with the specified set of knots. By default, cubic\n",
    "splines are produced. Fitting wage to age using a regression spline is simple:"
   ]
  },
  {
   "cell_type": "code",
   "execution_count": null,
   "metadata": {
    "collapsed": false
   },
   "outputs": [],
   "source": [
    "library(splines)\n",
    "\n",
    "# Get min/max values of age\n",
    "agelims=range(Wage$age)\n",
    "\n",
    "# Generate a sequence of age values spanning the range\n",
    "age.grid=seq(from=agelims[1],to=agelims[2])\n",
    "\n",
    "# Fit a regression spline using basis functions\n",
    "fit=lm(wage~bs(age,knots=c(25,40,60)),data=Wage)\n",
    "\n",
    "# Predict the value of the generated ages, returning the standard error using se=TRUE\n",
    "pred=predict(fit,newdata=list(age=age.grid),se=T)\n",
    "\n",
    "# Plot the spline and error bands\n",
    "plot(age,wage,col=\"gray\")\n",
    "lines(age.grid,pred$fit, col=\"red\", lwd=2)\n",
    "lines(age.grid,pred$fit+2*pred$se,lty=\"dashed\")\n",
    "lines(age.grid,pred$fit-2*pred$se,lty=\"dashed\")"
   ]
  },
  {
   "cell_type": "markdown",
   "metadata": {},
   "source": [
    "Here we have prespecified knots at ages 25, 40, and 60. This produces a\n",
    "spline with six basis functions. (Recall that a cubic spline with three knots\n",
    "has seven degrees of freedom; these degrees of freedom are used up by an\n",
    "intercept, plus six basis functions.) We could also use the ${\\tt df}$ option to\n",
    "produce a spline with knots at uniform quantiles of the data:"
   ]
  },
  {
   "cell_type": "code",
   "execution_count": null,
   "metadata": {
    "collapsed": false
   },
   "outputs": [],
   "source": [
    "# Specifying knots directly: 6 basis functions\n",
    "dim(bs(age,knots=c(25,40,60)))\n",
    "\n",
    "# Specify desired degrees of freedom, select knots automatically: still 6 basis functions\n",
    "dim(bs(age,df=6))\n",
    "\n",
    "# Show me where the knots were placed\n",
    "attr(bs(age,df=6),\"knots\")"
   ]
  },
  {
   "cell_type": "markdown",
   "metadata": {},
   "source": [
    "In this case R chooses knots at ages 33.8, 42.0, and 51.0, which correspond\n",
    "to the 25th, 50th, and 75th percentiles of age. The function ${\\tt bs()}$ also has\n",
    "a ${\\tt degree}$ argument, so we can fit splines of any degree, rather than the\n",
    "default degree of 3 (which yields a cubic spline).\n",
    "\n",
    "In order to instead fit a natural spline, we use the ${\\tt ns()}$ function. Here\n",
    "we fit a natural spline with four degrees of freedom:"
   ]
  },
  {
   "cell_type": "code",
   "execution_count": null,
   "metadata": {
    "collapsed": false
   },
   "outputs": [],
   "source": [
    "fit2=lm(wage~ns(age,df=4),data=Wage)\n",
    "pred2=predict(fit2,newdata=list(age=age.grid),se=T)\n",
    "\n",
    "# Plot the natural spline and error bands\n",
    "plot(age,wage,col=\"gray\")\n",
    "lines(age.grid, pred2$fit, col=\"red\",lwd=2)\n",
    "lines(age.grid,pred2$fit+2*pred$se,lty=\"dashed\")\n",
    "lines(age.grid,pred2$fit-2*pred$se,lty=\"dashed\")"
   ]
  },
  {
   "cell_type": "markdown",
   "metadata": {},
   "source": [
    "As with the ${\\tt bs()}$ function, we could instead specify the knots directly using\n",
    "the ${\\tt knots}$ option.\n",
    "\n",
    "In order to fit a smoothing spline, we use the ${\\tt smooth.spline()}$ function. Here we'll reproduce the plot we saw in lecture showing a 16-degree and LOOCV smoothing spline on the ${\\tt Wage}$ data:"
   ]
  },
  {
   "cell_type": "code",
   "execution_count": null,
   "metadata": {
    "collapsed": false
   },
   "outputs": [],
   "source": [
    "plot(age,wage,xlim=agelims,cex=.5,col=\"darkgrey\")\n",
    "title(\"Smoothing Spline\")\n",
    "fit=smooth.spline(age,wage,df=16)\n",
    "fit2=smooth.spline(age,wage,cv=TRUE)\n",
    "lines(fit,col=\"red\",lwd=2)\n",
    "lines(fit2,col=\"blue\",lwd=2)\n",
    "legend(\"topright\",legend=c(\"16 Degrees of Freedom\",\"6.8 Effective Degrees of Freedom (CV)\"),col=c(\"red\",\"blue\"),lty=1,lwd=2,cex=.8)"
   ]
  },
  {
   "cell_type": "markdown",
   "metadata": {},
   "source": [
    "Notice that in the first call to ${\\tt smooth.spline()}$, we specified ${\\tt df=16}$. The\n",
    "function then determines which value of $\\lambda$ leads to 16 degrees of freedom. In\n",
    "the second call to ${\\tt smooth.spline()}$, we select the smoothness level by cross-validation;\n",
    "this results in a value of $\\lambda$ that yields 6.8 degrees of freedom.\n",
    "\n",
    "# 7.8.3 GAMs\n",
    "We now fit a really simple GAM to predict wage using natural spline functions of ${\\tt year}$\n",
    "and ${\\tt age}$, treating ${\\tt education}$ as a qualitative predictor. Since\n",
    "this is just a big linear regression model using an appropriate choice of\n",
    "basis functions, we can simply do this using the ${\\tt lm()}$ function:"
   ]
  },
  {
   "cell_type": "code",
   "execution_count": null,
   "metadata": {
    "collapsed": true
   },
   "outputs": [],
   "source": [
    "gam1=lm(wage~ns(year,4)+ns(age,5)+education,data=Wage)"
   ]
  },
  {
   "cell_type": "markdown",
   "metadata": {},
   "source": [
    "What if we want to fit the model using smoothing splines rather than natural\n",
    "splines? In order to fit more general sorts of GAMs, using smoothing splines\n",
    "or other components that cannot be expressed in terms of basis functions\n",
    "and then fit using least squares regression, we will need to use the ${\\tt gam}$\n",
    "library in R. The ${\\tt s()}$ function, which is part of the ${\\tt gam}$ library, is used to indicate that\n",
    "we would like to use a smoothing spline. We'll specify that the function of\n",
    "${\\tt year}$ should have 4 degrees of freedom, and that the function of ${\\tt age}$ will\n",
    "have 5 degrees of freedom. Since ${\\tt education}$ is qualitative, we leave it as is,\n",
    "and it is converted into four dummy variables.\n",
    "\n",
    "We can use the ${\\tt gam()}$ function in order to fit a GAM using these components. All of the terms are\n",
    "fit simultaneously, taking each other into account to explain the response:"
   ]
  },
  {
   "cell_type": "code",
   "execution_count": null,
   "metadata": {
    "collapsed": false
   },
   "outputs": [],
   "source": [
    "library(gam)\n",
    "gam.m3=gam(wage~s(year,4)+s(age,5)+education,data=Wage)\n",
    "par(mfrow=c(1,3))\n",
    "plot(gam.m3, se=TRUE,col=\"blue\")"
   ]
  },
  {
   "cell_type": "markdown",
   "metadata": {},
   "source": [
    "The generic ${\\tt plot()}$ function recognizes that gam2 is an object of class gam,\n",
    "and invokes the appropriate ${\\tt plot.gam()}$ method. Conveniently, even though our simple\n",
    "${\\tt gam1}$ is not of class ${\\tt gam}$ but rather of class ${\\tt lm}$, we can still use ${\\tt plot.gam()}$\n",
    "on it:"
   ]
  },
  {
   "cell_type": "code",
   "execution_count": null,
   "metadata": {
    "collapsed": false
   },
   "outputs": [],
   "source": [
    "par(mfrow=c(1,3))\n",
    "plot.gam(gam1, se=TRUE, col=\"red\")"
   ]
  },
  {
   "cell_type": "markdown",
   "metadata": {},
   "source": [
    "Notice here we had to use ${\\tt plot.gam()}$ rather than the generic ${\\tt plot()}$\n",
    "function.\n",
    "\n",
    "In these plots, the function of ${\\tt year}$ looks rather linear. We can perform a\n",
    "series of ANOVA tests in order to determine which of these three models is\n",
    "best: a GAM that excludes ${\\tt year}$ ($M_1$), a GAM that uses a linear function\n",
    "of ${\\tt year}$ ($M_2$), or a GAM that uses a spline function of ${\\tt year}$ ($M_3$):"
   ]
  },
  {
   "cell_type": "code",
   "execution_count": null,
   "metadata": {
    "collapsed": false
   },
   "outputs": [],
   "source": [
    "gam.m1=gam(wage~s(age,5)+education,data=Wage)\n",
    "gam.m2=gam(wage~year+s(age,5)+education,data=Wage)\n",
    "print(anova(gam.m1,gam.m2,gam.m3,test=\"F\"))"
   ]
  },
  {
   "cell_type": "markdown",
   "metadata": {},
   "source": [
    "We find that there is compelling evidence that a GAM with a linear function\n",
    "of ${\\tt year}$ is better than a GAM that does not include ${\\tt year}$ at all\n",
    "($p$-value=0.00014). However, there is no evidence that a non-linear function\n",
    "of ${\\tt year}$ is helpful ($p$-value=0.349). In other words, based on the results\n",
    "of this ANOVA, $M_2$ is preferred.\n",
    "\n",
    "The ${\\tt summary()}$ function produces a summary of the GAM fit:"
   ]
  },
  {
   "cell_type": "code",
   "execution_count": null,
   "metadata": {
    "collapsed": false
   },
   "outputs": [],
   "source": [
    "summary(gam.m3)"
   ]
  },
  {
   "cell_type": "markdown",
   "metadata": {},
   "source": [
    "The $p$-values for ${\\tt year}$ and ${\\tt age}$ correspond to a null hypothesis of a linear\n",
    "relationship versus the alternative of a non-linear relationship. The large\n",
    "$p$-value for ${\\tt year}$ reinforces our conclusion from the ANOVA test that a linear\n",
    "function is adequate for this term. However, there is very clear evidence\n",
    "that a non-linear term is required for ${\\tt age}$.\n",
    "\n",
    "We can make predictions from ${\\tt gam}$ objects, just like from ${\\tt lm}$ objects,\n",
    "using the ${\\tt predict()}$ method for the class ${\\tt gam}$. Here we make predictions on\n",
    "the training set:"
   ]
  },
  {
   "cell_type": "code",
   "execution_count": null,
   "metadata": {
    "collapsed": false
   },
   "outputs": [],
   "source": [
    "preds=predict(gam.m2,newdata=Wage)"
   ]
  },
  {
   "cell_type": "markdown",
   "metadata": {},
   "source": [
    "# Logistic Regression GAMs\n",
    "In order to fit a logistic regression GAM, we once again use the ${\\tt I()}$ function\n",
    "in constructing the binary response variable, and set ${\\tt family=binomial}$:"
   ]
  },
  {
   "cell_type": "code",
   "execution_count": null,
   "metadata": {
    "collapsed": false
   },
   "outputs": [],
   "source": [
    "gam.lr=gam(I(wage>250)~year+s(age,df=5)+education,family=binomial,data=Wage)\n",
    "par(mfrow=c(1,3))\n",
    "plot(gam.lr,se=T,col=\"green\")"
   ]
  },
  {
   "cell_type": "markdown",
   "metadata": {},
   "source": [
    "It is easy to see that there are no high earners in the ${\\tt <HS}$ category:"
   ]
  },
  {
   "cell_type": "code",
   "execution_count": null,
   "metadata": {
    "collapsed": false
   },
   "outputs": [],
   "source": [
    "table(education,I(wage>250))"
   ]
  },
  {
   "cell_type": "markdown",
   "metadata": {},
   "source": [
    "Hence, we fit a logistic regression GAM using all but this category. This\n",
    "provides more sensible results:"
   ]
  },
  {
   "cell_type": "code",
   "execution_count": null,
   "metadata": {
    "collapsed": false
   },
   "outputs": [],
   "source": [
    "gam.lr.s=gam(I(wage>250)~year+s(age,df=5)+education,family=binomial,data=Wage,subset=(education!=\"1. < HS Grad\"))\n",
    "par(mfrow=c(1,3))\n",
    "plot(gam.lr.s,se=T,col=\"green\")"
   ]
  },
  {
   "cell_type": "markdown",
   "metadata": {},
   "source": [
    "To get credit for this lab, post your answer to thew following question:\n",
    " - How would you choose whether to use a polynomial, step, or spline function for each predictor when building a GAM?\n",
    "\n",
    "To Piazza: https://piazza.com/class/igwiv4w3ctb6rg?cid=50"
   ]
  }
 ],
 "metadata": {
  "kernelspec": {
   "display_name": "R",
   "language": "R",
   "name": "ir"
  },
  "language_info": {
   "codemirror_mode": "r",
   "file_extension": ".r",
   "mimetype": "text/x-r-source",
   "name": "R",
   "pygments_lexer": "r",
   "version": "3.2.2"
  }
 },
 "nbformat": 4,
 "nbformat_minor": 0
}
